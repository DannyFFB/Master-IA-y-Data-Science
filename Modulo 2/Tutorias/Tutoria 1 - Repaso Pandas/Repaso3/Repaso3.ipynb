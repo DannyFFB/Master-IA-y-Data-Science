{
 "cells": [
  {
   "cell_type": "code",
   "execution_count": 5,
   "id": "2faa2b44",
   "metadata": {},
   "outputs": [
    {
     "name": "stdout",
     "output_type": "stream",
     "text": [
      "<class 'pandas.core.frame.DataFrame'>\n",
      "RangeIndex: 250 entries, 0 to 249\n",
      "Data columns (total 11 columns):\n",
      " #   Column             Non-Null Count  Dtype  \n",
      "---  ------             --------------  -----  \n",
      " 0   Order ID           250 non-null    object \n",
      " 1   Date               250 non-null    object \n",
      " 2   Product            250 non-null    object \n",
      " 3   Category           250 non-null    object \n",
      " 4   Price              247 non-null    float64\n",
      " 5   Quantity           244 non-null    float64\n",
      " 6   Total Sales        250 non-null    int64  \n",
      " 7   Customer Name      243 non-null    object \n",
      " 8   Customer Location  249 non-null    object \n",
      " 9   Payment Method     244 non-null    object \n",
      " 10  Status             250 non-null    object \n",
      "dtypes: float64(2), int64(1), object(8)\n",
      "memory usage: 21.6+ KB\n"
     ]
    }
   ],
   "source": [
    "import pandas as pd\n",
    "\n",
    "df= pd.read_csv(\"amazon_sales_data 2025.csv\")\n",
    "\n",
    "df.info()"
   ]
  },
  {
   "cell_type": "code",
   "execution_count": 6,
   "id": "153061a0",
   "metadata": {},
   "outputs": [
    {
     "data": {
      "text/plain": [
       "Order ID             0\n",
       "Date                 0\n",
       "Product              0\n",
       "Category             0\n",
       "Price                3\n",
       "Quantity             6\n",
       "Total Sales          0\n",
       "Customer Name        7\n",
       "Customer Location    1\n",
       "Payment Method       6\n",
       "Status               0\n",
       "dtype: int64"
      ]
     },
     "execution_count": 6,
     "metadata": {},
     "output_type": "execute_result"
    }
   ],
   "source": [
    "df.isnull().sum()"
   ]
  },
  {
   "cell_type": "code",
   "execution_count": 7,
   "id": "36867051",
   "metadata": {},
   "outputs": [
    {
     "data": {
      "text/plain": [
       "Order ID             0\n",
       "Date                 0\n",
       "Product              0\n",
       "Category             0\n",
       "Price                3\n",
       "Quantity             6\n",
       "Total Sales          0\n",
       "Customer Name        7\n",
       "Customer Location    1\n",
       "Payment Method       6\n",
       "Status               0\n",
       "dtype: int64"
      ]
     },
     "execution_count": 7,
     "metadata": {},
     "output_type": "execute_result"
    }
   ],
   "source": [
    "df.isna().sum()"
   ]
  },
  {
   "cell_type": "code",
   "execution_count": 9,
   "id": "0e35e423",
   "metadata": {},
   "outputs": [
    {
     "data": {
      "text/html": [
       "<div>\n",
       "<style scoped>\n",
       "    .dataframe tbody tr th:only-of-type {\n",
       "        vertical-align: middle;\n",
       "    }\n",
       "\n",
       "    .dataframe tbody tr th {\n",
       "        vertical-align: top;\n",
       "    }\n",
       "\n",
       "    .dataframe thead th {\n",
       "        text-align: right;\n",
       "    }\n",
       "</style>\n",
       "<table border=\"1\" class=\"dataframe\">\n",
       "  <thead>\n",
       "    <tr style=\"text-align: right;\">\n",
       "      <th></th>\n",
       "      <th>Price</th>\n",
       "      <th>Quantity</th>\n",
       "      <th>Total Sales</th>\n",
       "    </tr>\n",
       "  </thead>\n",
       "  <tbody>\n",
       "    <tr>\n",
       "      <th>count</th>\n",
       "      <td>247.000000</td>\n",
       "      <td>244.000000</td>\n",
       "      <td>250.000000</td>\n",
       "    </tr>\n",
       "    <tr>\n",
       "      <th>mean</th>\n",
       "      <td>346.740891</td>\n",
       "      <td>2.856557</td>\n",
       "      <td>975.380000</td>\n",
       "    </tr>\n",
       "    <tr>\n",
       "      <th>std</th>\n",
       "      <td>381.820103</td>\n",
       "      <td>1.437275</td>\n",
       "      <td>1252.112254</td>\n",
       "    </tr>\n",
       "    <tr>\n",
       "      <th>min</th>\n",
       "      <td>15.000000</td>\n",
       "      <td>1.000000</td>\n",
       "      <td>15.000000</td>\n",
       "    </tr>\n",
       "    <tr>\n",
       "      <th>25%</th>\n",
       "      <td>40.000000</td>\n",
       "      <td>2.000000</td>\n",
       "      <td>100.000000</td>\n",
       "    </tr>\n",
       "    <tr>\n",
       "      <th>50%</th>\n",
       "      <td>150.000000</td>\n",
       "      <td>3.000000</td>\n",
       "      <td>400.000000</td>\n",
       "    </tr>\n",
       "    <tr>\n",
       "      <th>75%</th>\n",
       "      <td>600.000000</td>\n",
       "      <td>4.000000</td>\n",
       "      <td>1500.000000</td>\n",
       "    </tr>\n",
       "    <tr>\n",
       "      <th>max</th>\n",
       "      <td>1200.000000</td>\n",
       "      <td>5.000000</td>\n",
       "      <td>6000.000000</td>\n",
       "    </tr>\n",
       "  </tbody>\n",
       "</table>\n",
       "</div>"
      ],
      "text/plain": [
       "             Price    Quantity  Total Sales\n",
       "count   247.000000  244.000000   250.000000\n",
       "mean    346.740891    2.856557   975.380000\n",
       "std     381.820103    1.437275  1252.112254\n",
       "min      15.000000    1.000000    15.000000\n",
       "25%      40.000000    2.000000   100.000000\n",
       "50%     150.000000    3.000000   400.000000\n",
       "75%     600.000000    4.000000  1500.000000\n",
       "max    1200.000000    5.000000  6000.000000"
      ]
     },
     "execution_count": 9,
     "metadata": {},
     "output_type": "execute_result"
    }
   ],
   "source": [
    "df.describe()"
   ]
  },
  {
   "cell_type": "code",
   "execution_count": 15,
   "id": "e44c3faa",
   "metadata": {},
   "outputs": [],
   "source": [
    "df[\"Price\"].fillna(df[\"Price\"].mean(), inplace=True)"
   ]
  },
  {
   "cell_type": "code",
   "execution_count": 16,
   "id": "4cdcf1dc",
   "metadata": {},
   "outputs": [
    {
     "data": {
      "text/plain": [
       "Order ID             0\n",
       "Date                 0\n",
       "Product              0\n",
       "Category             0\n",
       "Price                0\n",
       "Quantity             6\n",
       "Total Sales          0\n",
       "Customer Name        7\n",
       "Customer Location    1\n",
       "Payment Method       6\n",
       "Status               0\n",
       "dtype: int64"
      ]
     },
     "execution_count": 16,
     "metadata": {},
     "output_type": "execute_result"
    }
   ],
   "source": [
    "df.isnull().sum()"
   ]
  },
  {
   "cell_type": "code",
   "execution_count": 30,
   "id": "0ba963aa",
   "metadata": {},
   "outputs": [
    {
     "name": "stdout",
     "output_type": "stream",
     "text": [
      "<class 'pandas.core.frame.DataFrame'>\n",
      "RangeIndex: 250 entries, 0 to 249\n",
      "Data columns (total 11 columns):\n",
      " #   Column             Non-Null Count  Dtype  \n",
      "---  ------             --------------  -----  \n",
      " 0   Order ID           250 non-null    object \n",
      " 1   Date               250 non-null    object \n",
      " 2   Product            250 non-null    object \n",
      " 3   Category           250 non-null    object \n",
      " 4   Price              250 non-null    float64\n",
      " 5   Quantity           250 non-null    float64\n",
      " 6   Total Sales        250 non-null    int64  \n",
      " 7   Customer Name      243 non-null    object \n",
      " 8   Customer Location  249 non-null    object \n",
      " 9   Payment Method     244 non-null    object \n",
      " 10  Status             250 non-null    object \n",
      "dtypes: float64(2), int64(1), object(8)\n",
      "memory usage: 21.6+ KB\n"
     ]
    },
    {
     "name": "stderr",
     "output_type": "stream",
     "text": [
      "C:\\Users\\danny\\AppData\\Local\\Temp\\ipykernel_8844\\1197278107.py:1: FutureWarning: A value is trying to be set on a copy of a DataFrame or Series through chained assignment using an inplace method.\n",
      "The behavior will change in pandas 3.0. This inplace method will never work because the intermediate object on which we are setting values always behaves as a copy.\n",
      "\n",
      "For example, when doing 'df[col].method(value, inplace=True)', try using 'df.method({col: value}, inplace=True)' or df[col] = df[col].method(value) instead, to perform the operation inplace on the original object.\n",
      "\n",
      "\n",
      "  df[\"Quantity\"].fillna(df[\"Quantity\"].mode(),inplace=True)\n"
     ]
    }
   ],
   "source": [
    "df[\"Quantity\"].fillna(df[\"Quantity\"].mode(),inplace=True)\n",
    "\n",
    "df.info()"
   ]
  },
  {
   "cell_type": "code",
   "execution_count": 40,
   "id": "4b8f4cb6",
   "metadata": {},
   "outputs": [],
   "source": [
    "df[\"Customer Name\"].fillna(\"Unknown\" ,inplace=True)"
   ]
  },
  {
   "cell_type": "code",
   "execution_count": 43,
   "id": "99da5a05",
   "metadata": {},
   "outputs": [
    {
     "name": "stderr",
     "output_type": "stream",
     "text": [
      "C:\\Users\\danny\\AppData\\Local\\Temp\\ipykernel_8844\\1846266616.py:1: FutureWarning: A value is trying to be set on a copy of a DataFrame or Series through chained assignment using an inplace method.\n",
      "The behavior will change in pandas 3.0. This inplace method will never work because the intermediate object on which we are setting values always behaves as a copy.\n",
      "\n",
      "For example, when doing 'df[col].method(value, inplace=True)', try using 'df.method({col: value}, inplace=True)' or df[col] = df[col].method(value) instead, to perform the operation inplace on the original object.\n",
      "\n",
      "\n",
      "  df[\"Customer Location\"].fillna(\"Unknown\" ,inplace=True)\n",
      "C:\\Users\\danny\\AppData\\Local\\Temp\\ipykernel_8844\\1846266616.py:2: FutureWarning: A value is trying to be set on a copy of a DataFrame or Series through chained assignment using an inplace method.\n",
      "The behavior will change in pandas 3.0. This inplace method will never work because the intermediate object on which we are setting values always behaves as a copy.\n",
      "\n",
      "For example, when doing 'df[col].method(value, inplace=True)', try using 'df.method({col: value}, inplace=True)' or df[col] = df[col].method(value) instead, to perform the operation inplace on the original object.\n",
      "\n",
      "\n",
      "  df[\"Payment Method\"].fillna(\"Unknown\" ,inplace=True)\n"
     ]
    }
   ],
   "source": [
    "df[\"Customer Location\"].fillna(\"Unknown\" ,inplace=True)\n",
    "df[\"Payment Method\"].fillna(\"Unknown\" ,inplace=True)\n"
   ]
  },
  {
   "cell_type": "code",
   "execution_count": null,
   "id": "d21ff008",
   "metadata": {},
   "outputs": [],
   "source": [
    "df.drop(\"Customer Location\", axis=1, inplace=True)"
   ]
  },
  {
   "cell_type": "code",
   "execution_count": 51,
   "id": "c1242b04",
   "metadata": {},
   "outputs": [
    {
     "name": "stdout",
     "output_type": "stream",
     "text": [
      "<class 'pandas.core.frame.DataFrame'>\n",
      "RangeIndex: 250 entries, 0 to 249\n",
      "Data columns (total 10 columns):\n",
      " #   Column          Non-Null Count  Dtype  \n",
      "---  ------          --------------  -----  \n",
      " 0   Order ID        250 non-null    object \n",
      " 1   Date            250 non-null    object \n",
      " 2   Product         250 non-null    object \n",
      " 3   Category        250 non-null    object \n",
      " 4   Price           250 non-null    float64\n",
      " 5   Quantity        250 non-null    float64\n",
      " 6   Total Sales     250 non-null    int64  \n",
      " 7   Customer Name   250 non-null    object \n",
      " 8   Payment Method  250 non-null    object \n",
      " 9   Status          250 non-null    object \n",
      "dtypes: float64(2), int64(1), object(7)\n",
      "memory usage: 19.7+ KB\n"
     ]
    }
   ],
   "source": [
    "df.info()"
   ]
  },
  {
   "cell_type": "code",
   "execution_count": 53,
   "id": "d75c089d",
   "metadata": {},
   "outputs": [
    {
     "data": {
      "text/plain": [
       "Order ID          0\n",
       "Date              0\n",
       "Product           0\n",
       "Category          0\n",
       "Price             0\n",
       "Quantity          0\n",
       "Total Sales       0\n",
       "Customer Name     0\n",
       "Payment Method    0\n",
       "Status            0\n",
       "dtype: int64"
      ]
     },
     "execution_count": 53,
     "metadata": {},
     "output_type": "execute_result"
    }
   ],
   "source": [
    "df.isnull().sum()"
   ]
  },
  {
   "cell_type": "code",
   "execution_count": 60,
   "id": "5cda14c4",
   "metadata": {},
   "outputs": [],
   "source": [
    "df.rename(columns={\"Customer Name\" : \"Name Customer\"}, inplace=True)"
   ]
  },
  {
   "cell_type": "code",
   "execution_count": 62,
   "id": "af842399",
   "metadata": {},
   "outputs": [
    {
     "name": "stdout",
     "output_type": "stream",
     "text": [
      "<class 'pandas.core.frame.DataFrame'>\n",
      "RangeIndex: 250 entries, 0 to 249\n",
      "Data columns (total 10 columns):\n",
      " #   Column          Non-Null Count  Dtype  \n",
      "---  ------          --------------  -----  \n",
      " 0   Order ID        250 non-null    object \n",
      " 1   Date            250 non-null    object \n",
      " 2   Product         250 non-null    object \n",
      " 3   Category        250 non-null    object \n",
      " 4   Price           250 non-null    float64\n",
      " 5   Quantity        250 non-null    float64\n",
      " 6   Total Sales     250 non-null    int64  \n",
      " 7   Name Customer   250 non-null    object \n",
      " 8   Payment Method  250 non-null    object \n",
      " 9   Status          250 non-null    object \n",
      "dtypes: float64(2), int64(1), object(7)\n",
      "memory usage: 19.7+ KB\n"
     ]
    }
   ],
   "source": [
    "df.info()"
   ]
  },
  {
   "cell_type": "code",
   "execution_count": 68,
   "id": "38e62038",
   "metadata": {},
   "outputs": [],
   "source": [
    "df[\"Order ID\"] = df[\"Order ID\"].str.strip()\n",
    "df[\"Order ID\"] = df[\"Order ID\"].str.lower()"
   ]
  },
  {
   "cell_type": "code",
   "execution_count": 71,
   "id": "8c1026d1",
   "metadata": {},
   "outputs": [
    {
     "data": {
      "text/plain": [
       "0      ord0001\n",
       "1      ord0002\n",
       "2      ord0003\n",
       "3      ord0004\n",
       "4      ord0005\n",
       "        ...   \n",
       "245    ord0246\n",
       "246    ord0247\n",
       "247    ord0248\n",
       "248    ord0249\n",
       "249    ord0250\n",
       "Name: Order ID, Length: 250, dtype: object"
      ]
     },
     "execution_count": 71,
     "metadata": {},
     "output_type": "execute_result"
    }
   ],
   "source": [
    "df[\"Order ID\"]"
   ]
  },
  {
   "cell_type": "code",
   "execution_count": 73,
   "id": "f554be7a",
   "metadata": {},
   "outputs": [
    {
     "data": {
      "text/plain": [
       "Status\n",
       "Completed    88\n",
       "Pending      85\n",
       "Cancelled    77\n",
       "Name: count, dtype: int64"
      ]
     },
     "execution_count": 73,
     "metadata": {},
     "output_type": "execute_result"
    }
   ],
   "source": [
    "df[\"Status\"].value_counts()"
   ]
  },
  {
   "cell_type": "code",
   "execution_count": 80,
   "id": "26464420",
   "metadata": {},
   "outputs": [
    {
     "data": {
      "text/plain": [
       "Payment Method\n",
       "PayPal         59\n",
       "Credit Card    53\n",
       "Debit Card     51\n",
       "Gift Card      41\n",
       "Amazon Pay     40\n",
       "Unknown         6\n",
       "Name: count, dtype: int64"
      ]
     },
     "execution_count": 80,
     "metadata": {},
     "output_type": "execute_result"
    }
   ],
   "source": [
    "df[\"Payment Method\"].value_counts()"
   ]
  },
  {
   "cell_type": "code",
   "execution_count": 86,
   "id": "448a8b1e",
   "metadata": {},
   "outputs": [],
   "source": [
    "df[\"Payment Method\"] = df[\"Payment Method\"].str.replace(\"Gift Card\", \"Tarjeta Regalo\", regex=False)"
   ]
  },
  {
   "cell_type": "code",
   "execution_count": 84,
   "id": "c4f65a80",
   "metadata": {},
   "outputs": [
    {
     "data": {
      "text/plain": [
       "Payment Method\n",
       "PayPal            59\n",
       "Credit Card       53\n",
       "Debit Card        51\n",
       "Tarjeta Regalo    41\n",
       "Amazon Pay        40\n",
       "Unknown            6\n",
       "Name: count, dtype: int64"
      ]
     },
     "execution_count": 84,
     "metadata": {},
     "output_type": "execute_result"
    }
   ],
   "source": [
    "df[\"Payment Method\"].value_counts()"
   ]
  },
  {
   "cell_type": "code",
   "execution_count": 88,
   "id": "def60ffb",
   "metadata": {},
   "outputs": [
    {
     "data": {
      "text/plain": [
       "0         Debit Card\n",
       "1         Debit Card\n",
       "2         Amazon Pay\n",
       "3        Credit Card\n",
       "4         Debit Card\n",
       "5        Credit Card\n",
       "6            Unknown\n",
       "7             PayPal\n",
       "8             PayPal\n",
       "9        Credit Card\n",
       "10        Amazon Pay\n",
       "11       Credit Card\n",
       "12    Tarjeta Regalo\n",
       "13       Credit Card\n",
       "14       Credit Card\n",
       "Name: Payment Method, dtype: object"
      ]
     },
     "execution_count": 88,
     "metadata": {},
     "output_type": "execute_result"
    }
   ],
   "source": [
    "df[\"Payment Method\"].head(15)"
   ]
  },
  {
   "cell_type": "code",
   "execution_count": 94,
   "id": "3f5412f3",
   "metadata": {},
   "outputs": [
    {
     "data": {
      "text/plain": [
       "array(['Footwear', 'Electronics', 'Clothing', 'Books', 'Home Appliances'],\n",
       "      dtype=object)"
      ]
     },
     "execution_count": 94,
     "metadata": {},
     "output_type": "execute_result"
    }
   ],
   "source": [
    "df[\"Category\"].unique()\n"
   ]
  },
  {
   "cell_type": "code",
   "execution_count": 95,
   "id": "25edb356",
   "metadata": {},
   "outputs": [],
   "source": [
    "df.loc[df['Category'] == 'Clothing', 'Category'] = 'Ropa'"
   ]
  },
  {
   "cell_type": "code",
   "execution_count": 96,
   "id": "4ee009f1",
   "metadata": {},
   "outputs": [
    {
     "data": {
      "text/plain": [
       "array(['Footwear', 'Electronics', 'Ropa', 'Books', 'Home Appliances'],\n",
       "      dtype=object)"
      ]
     },
     "execution_count": 96,
     "metadata": {},
     "output_type": "execute_result"
    }
   ],
   "source": [
    "df[\"Category\"].unique()\n"
   ]
  },
  {
   "cell_type": "code",
   "execution_count": 98,
   "id": "e75e9978",
   "metadata": {},
   "outputs": [
    {
     "data": {
      "text/plain": [
       "0       Footwear\n",
       "1    Electronics\n",
       "2       Footwear\n",
       "3       Footwear\n",
       "4    Electronics\n",
       "5           Ropa\n",
       "6    Electronics\n",
       "7    Electronics\n",
       "8           Ropa\n",
       "9    Electronics\n",
       "Name: Category, dtype: object"
      ]
     },
     "execution_count": 98,
     "metadata": {},
     "output_type": "execute_result"
    }
   ],
   "source": [
    "df[\"Category\"].head(10)"
   ]
  },
  {
   "cell_type": "code",
   "execution_count": 106,
   "id": "e4894713",
   "metadata": {},
   "outputs": [],
   "source": [
    "df[\"Quantity\"] = df[\"Quantity\"].round().astype(\"Int64\")"
   ]
  },
  {
   "cell_type": "code",
   "execution_count": 110,
   "id": "6deb4c17",
   "metadata": {},
   "outputs": [
    {
     "data": {
      "text/plain": [
       "0    3\n",
       "1    4\n",
       "2    2\n",
       "3    3\n",
       "4    3\n",
       "Name: Quantity, dtype: Int64"
      ]
     },
     "execution_count": 110,
     "metadata": {},
     "output_type": "execute_result"
    }
   ],
   "source": [
    "df[\"Quantity\"].head(5)"
   ]
  },
  {
   "cell_type": "code",
   "execution_count": null,
   "id": "5257866f",
   "metadata": {},
   "outputs": [
    {
     "data": {
      "text/html": [
       "<div>\n",
       "<style scoped>\n",
       "    .dataframe tbody tr th:only-of-type {\n",
       "        vertical-align: middle;\n",
       "    }\n",
       "\n",
       "    .dataframe tbody tr th {\n",
       "        vertical-align: top;\n",
       "    }\n",
       "\n",
       "    .dataframe thead th {\n",
       "        text-align: right;\n",
       "    }\n",
       "</style>\n",
       "<table border=\"1\" class=\"dataframe\">\n",
       "  <thead>\n",
       "    <tr style=\"text-align: right;\">\n",
       "      <th></th>\n",
       "      <th>Order ID</th>\n",
       "      <th>Date</th>\n",
       "      <th>Product</th>\n",
       "      <th>Category</th>\n",
       "      <th>Price</th>\n",
       "      <th>Quantity</th>\n",
       "      <th>Total Sales</th>\n",
       "      <th>Name Customer</th>\n",
       "      <th>Payment Method</th>\n",
       "      <th>Status</th>\n",
       "      <th>Payment Methof</th>\n",
       "    </tr>\n",
       "  </thead>\n",
       "  <tbody>\n",
       "    <tr>\n",
       "      <th>0</th>\n",
       "      <td>ord0001</td>\n",
       "      <td>14/03/2025</td>\n",
       "      <td>Running Shoes</td>\n",
       "      <td>Footwear</td>\n",
       "      <td>60.000000</td>\n",
       "      <td>3</td>\n",
       "      <td>180</td>\n",
       "      <td>Emma Clark</td>\n",
       "      <td>Debit Card</td>\n",
       "      <td>Cancelled</td>\n",
       "      <td>Debit Card</td>\n",
       "    </tr>\n",
       "    <tr>\n",
       "      <th>1</th>\n",
       "      <td>ord0002</td>\n",
       "      <td>20/03/2025</td>\n",
       "      <td>Headphones</td>\n",
       "      <td>Electronics</td>\n",
       "      <td>100.000000</td>\n",
       "      <td>4</td>\n",
       "      <td>400</td>\n",
       "      <td>Emily Johnson</td>\n",
       "      <td>Debit Card</td>\n",
       "      <td>Pending</td>\n",
       "      <td>Debit Card</td>\n",
       "    </tr>\n",
       "    <tr>\n",
       "      <th>2</th>\n",
       "      <td>ord0003</td>\n",
       "      <td>15/02/2025</td>\n",
       "      <td>Running Shoes</td>\n",
       "      <td>Footwear</td>\n",
       "      <td>60.000000</td>\n",
       "      <td>2</td>\n",
       "      <td>120</td>\n",
       "      <td>John Doe</td>\n",
       "      <td>Amazon Pay</td>\n",
       "      <td>Cancelled</td>\n",
       "      <td>Amazon Pay</td>\n",
       "    </tr>\n",
       "    <tr>\n",
       "      <th>3</th>\n",
       "      <td>ord0004</td>\n",
       "      <td>19/02/2025</td>\n",
       "      <td>Running Shoes</td>\n",
       "      <td>Footwear</td>\n",
       "      <td>346.740891</td>\n",
       "      <td>3</td>\n",
       "      <td>180</td>\n",
       "      <td>Olivia Wilson</td>\n",
       "      <td>Credit Card</td>\n",
       "      <td>Pending</td>\n",
       "      <td>Credit Card</td>\n",
       "    </tr>\n",
       "    <tr>\n",
       "      <th>4</th>\n",
       "      <td>ord0005</td>\n",
       "      <td>10/03/2025</td>\n",
       "      <td>Smartwatch</td>\n",
       "      <td>Electronics</td>\n",
       "      <td>150.000000</td>\n",
       "      <td>3</td>\n",
       "      <td>450</td>\n",
       "      <td>Emma Clark</td>\n",
       "      <td>Debit Card</td>\n",
       "      <td>Pending</td>\n",
       "      <td>Debit Card</td>\n",
       "    </tr>\n",
       "    <tr>\n",
       "      <th>...</th>\n",
       "      <td>...</td>\n",
       "      <td>...</td>\n",
       "      <td>...</td>\n",
       "      <td>...</td>\n",
       "      <td>...</td>\n",
       "      <td>...</td>\n",
       "      <td>...</td>\n",
       "      <td>...</td>\n",
       "      <td>...</td>\n",
       "      <td>...</td>\n",
       "      <td>...</td>\n",
       "    </tr>\n",
       "    <tr>\n",
       "      <th>245</th>\n",
       "      <td>ord0246</td>\n",
       "      <td>17/03/2025</td>\n",
       "      <td>T-Shirt</td>\n",
       "      <td>Ropa</td>\n",
       "      <td>20.000000</td>\n",
       "      <td>2</td>\n",
       "      <td>40</td>\n",
       "      <td>Daniel Harris</td>\n",
       "      <td>Debit Card</td>\n",
       "      <td>Cancelled</td>\n",
       "      <td>Debit Card</td>\n",
       "    </tr>\n",
       "    <tr>\n",
       "      <th>246</th>\n",
       "      <td>ord0247</td>\n",
       "      <td>30/03/2025</td>\n",
       "      <td>Jeans</td>\n",
       "      <td>Ropa</td>\n",
       "      <td>40.000000</td>\n",
       "      <td>1</td>\n",
       "      <td>40</td>\n",
       "      <td>Sophia Miller</td>\n",
       "      <td>Debit Card</td>\n",
       "      <td>Cancelled</td>\n",
       "      <td>Debit Card</td>\n",
       "    </tr>\n",
       "    <tr>\n",
       "      <th>247</th>\n",
       "      <td>ord0248</td>\n",
       "      <td>05/03/2025</td>\n",
       "      <td>T-Shirt</td>\n",
       "      <td>Ropa</td>\n",
       "      <td>20.000000</td>\n",
       "      <td>3</td>\n",
       "      <td>40</td>\n",
       "      <td>Chris White</td>\n",
       "      <td>Debit Card</td>\n",
       "      <td>Cancelled</td>\n",
       "      <td>Debit Card</td>\n",
       "    </tr>\n",
       "    <tr>\n",
       "      <th>248</th>\n",
       "      <td>ord0249</td>\n",
       "      <td>08/03/2025</td>\n",
       "      <td>Smartwatch</td>\n",
       "      <td>Electronics</td>\n",
       "      <td>150.000000</td>\n",
       "      <td>3</td>\n",
       "      <td>450</td>\n",
       "      <td>Emily Johnson</td>\n",
       "      <td>Debit Card</td>\n",
       "      <td>Cancelled</td>\n",
       "      <td>Debit Card</td>\n",
       "    </tr>\n",
       "    <tr>\n",
       "      <th>249</th>\n",
       "      <td>ord0250</td>\n",
       "      <td>19/02/2025</td>\n",
       "      <td>Smartphone</td>\n",
       "      <td>Electronics</td>\n",
       "      <td>500.000000</td>\n",
       "      <td>4</td>\n",
       "      <td>2000</td>\n",
       "      <td>Emily Johnson</td>\n",
       "      <td>Amazon Pay</td>\n",
       "      <td>Completed</td>\n",
       "      <td>Amazon Pay</td>\n",
       "    </tr>\n",
       "  </tbody>\n",
       "</table>\n",
       "<p>250 rows × 11 columns</p>\n",
       "</div>"
      ],
      "text/plain": [
       "    Order ID        Date        Product     Category       Price  Quantity  \\\n",
       "0    ord0001  14/03/2025  Running Shoes     Footwear   60.000000         3   \n",
       "1    ord0002  20/03/2025     Headphones  Electronics  100.000000         4   \n",
       "2    ord0003  15/02/2025  Running Shoes     Footwear   60.000000         2   \n",
       "3    ord0004  19/02/2025  Running Shoes     Footwear  346.740891         3   \n",
       "4    ord0005  10/03/2025     Smartwatch  Electronics  150.000000         3   \n",
       "..       ...         ...            ...          ...         ...       ...   \n",
       "245  ord0246  17/03/2025        T-Shirt         Ropa   20.000000         2   \n",
       "246  ord0247  30/03/2025          Jeans         Ropa   40.000000         1   \n",
       "247  ord0248  05/03/2025        T-Shirt         Ropa   20.000000         3   \n",
       "248  ord0249  08/03/2025     Smartwatch  Electronics  150.000000         3   \n",
       "249  ord0250  19/02/2025     Smartphone  Electronics  500.000000         4   \n",
       "\n",
       "     Total Sales  Name Customer Payment Method     Status Payment Methof  \n",
       "0            180     Emma Clark     Debit Card  Cancelled     Debit Card  \n",
       "1            400  Emily Johnson     Debit Card    Pending     Debit Card  \n",
       "2            120       John Doe     Amazon Pay  Cancelled     Amazon Pay  \n",
       "3            180  Olivia Wilson    Credit Card    Pending    Credit Card  \n",
       "4            450     Emma Clark     Debit Card    Pending     Debit Card  \n",
       "..           ...            ...            ...        ...            ...  \n",
       "245           40  Daniel Harris     Debit Card  Cancelled     Debit Card  \n",
       "246           40  Sophia Miller     Debit Card  Cancelled     Debit Card  \n",
       "247           40    Chris White     Debit Card  Cancelled     Debit Card  \n",
       "248          450  Emily Johnson     Debit Card  Cancelled     Debit Card  \n",
       "249         2000  Emily Johnson     Amazon Pay  Completed     Amazon Pay  \n",
       "\n",
       "[250 rows x 11 columns]"
      ]
     },
     "execution_count": 111,
     "metadata": {},
     "output_type": "execute_result"
    }
   ],
   "source": []
  },
  {
   "cell_type": "code",
   "execution_count": 113,
   "id": "187ce37e",
   "metadata": {},
   "outputs": [
    {
     "data": {
      "text/html": [
       "<div>\n",
       "<style scoped>\n",
       "    .dataframe tbody tr th:only-of-type {\n",
       "        vertical-align: middle;\n",
       "    }\n",
       "\n",
       "    .dataframe tbody tr th {\n",
       "        vertical-align: top;\n",
       "    }\n",
       "\n",
       "    .dataframe thead th {\n",
       "        text-align: right;\n",
       "    }\n",
       "</style>\n",
       "<table border=\"1\" class=\"dataframe\">\n",
       "  <thead>\n",
       "    <tr style=\"text-align: right;\">\n",
       "      <th></th>\n",
       "      <th>Order ID</th>\n",
       "      <th>Date</th>\n",
       "      <th>Product</th>\n",
       "      <th>Category</th>\n",
       "      <th>Price</th>\n",
       "      <th>Quantity</th>\n",
       "      <th>Total Sales</th>\n",
       "      <th>Name Customer</th>\n",
       "      <th>Payment Method</th>\n",
       "      <th>Status</th>\n",
       "      <th>Payment Methof</th>\n",
       "    </tr>\n",
       "  </thead>\n",
       "  <tbody>\n",
       "    <tr>\n",
       "      <th>0</th>\n",
       "      <td>ord0001</td>\n",
       "      <td>14/03/2025</td>\n",
       "      <td>Running Shoes</td>\n",
       "      <td>Footwear</td>\n",
       "      <td>60.000000</td>\n",
       "      <td>3</td>\n",
       "      <td>180</td>\n",
       "      <td>Emma Clark</td>\n",
       "      <td>Debit Card</td>\n",
       "      <td>Cancelled</td>\n",
       "      <td>Debit Card</td>\n",
       "    </tr>\n",
       "    <tr>\n",
       "      <th>1</th>\n",
       "      <td>ord0002</td>\n",
       "      <td>20/03/2025</td>\n",
       "      <td>Headphones</td>\n",
       "      <td>Electronics</td>\n",
       "      <td>100.000000</td>\n",
       "      <td>4</td>\n",
       "      <td>400</td>\n",
       "      <td>Emily Johnson</td>\n",
       "      <td>Debit Card</td>\n",
       "      <td>Pending</td>\n",
       "      <td>Debit Card</td>\n",
       "    </tr>\n",
       "    <tr>\n",
       "      <th>2</th>\n",
       "      <td>ord0003</td>\n",
       "      <td>15/02/2025</td>\n",
       "      <td>Running Shoes</td>\n",
       "      <td>Footwear</td>\n",
       "      <td>60.000000</td>\n",
       "      <td>2</td>\n",
       "      <td>120</td>\n",
       "      <td>John Doe</td>\n",
       "      <td>Amazon Pay</td>\n",
       "      <td>Cancelled</td>\n",
       "      <td>Amazon Pay</td>\n",
       "    </tr>\n",
       "    <tr>\n",
       "      <th>3</th>\n",
       "      <td>ord0004</td>\n",
       "      <td>19/02/2025</td>\n",
       "      <td>Running Shoes</td>\n",
       "      <td>Footwear</td>\n",
       "      <td>346.740891</td>\n",
       "      <td>3</td>\n",
       "      <td>180</td>\n",
       "      <td>Olivia Wilson</td>\n",
       "      <td>Credit Card</td>\n",
       "      <td>Pending</td>\n",
       "      <td>Credit Card</td>\n",
       "    </tr>\n",
       "    <tr>\n",
       "      <th>4</th>\n",
       "      <td>ord0005</td>\n",
       "      <td>10/03/2025</td>\n",
       "      <td>Smartwatch</td>\n",
       "      <td>Electronics</td>\n",
       "      <td>150.000000</td>\n",
       "      <td>3</td>\n",
       "      <td>450</td>\n",
       "      <td>Emma Clark</td>\n",
       "      <td>Debit Card</td>\n",
       "      <td>Pending</td>\n",
       "      <td>Debit Card</td>\n",
       "    </tr>\n",
       "    <tr>\n",
       "      <th>5</th>\n",
       "      <td>ord0006</td>\n",
       "      <td>14/03/2025</td>\n",
       "      <td>T-Shirt</td>\n",
       "      <td>Ropa</td>\n",
       "      <td>20.000000</td>\n",
       "      <td>1</td>\n",
       "      <td>20</td>\n",
       "      <td>John Doe</td>\n",
       "      <td>Credit Card</td>\n",
       "      <td>Pending</td>\n",
       "      <td>Credit Card</td>\n",
       "    </tr>\n",
       "    <tr>\n",
       "      <th>6</th>\n",
       "      <td>ord0007</td>\n",
       "      <td>18/03/2025</td>\n",
       "      <td>Smartwatch</td>\n",
       "      <td>Electronics</td>\n",
       "      <td>150.000000</td>\n",
       "      <td>4</td>\n",
       "      <td>600</td>\n",
       "      <td>Emma Clark</td>\n",
       "      <td>Unknown</td>\n",
       "      <td>Completed</td>\n",
       "      <td>Unknown</td>\n",
       "    </tr>\n",
       "    <tr>\n",
       "      <th>7</th>\n",
       "      <td>ord0008</td>\n",
       "      <td>02/03/2025</td>\n",
       "      <td>Smartphone</td>\n",
       "      <td>Electronics</td>\n",
       "      <td>500.000000</td>\n",
       "      <td>1</td>\n",
       "      <td>500</td>\n",
       "      <td>Sophia Miller</td>\n",
       "      <td>PayPal</td>\n",
       "      <td>Completed</td>\n",
       "      <td>PayPal</td>\n",
       "    </tr>\n",
       "    <tr>\n",
       "      <th>8</th>\n",
       "      <td>ord0009</td>\n",
       "      <td>08/03/2025</td>\n",
       "      <td>T-Shirt</td>\n",
       "      <td>Ropa</td>\n",
       "      <td>20.000000</td>\n",
       "      <td>3</td>\n",
       "      <td>60</td>\n",
       "      <td>Sophia Miller</td>\n",
       "      <td>PayPal</td>\n",
       "      <td>Completed</td>\n",
       "      <td>PayPal</td>\n",
       "    </tr>\n",
       "    <tr>\n",
       "      <th>9</th>\n",
       "      <td>ord0010</td>\n",
       "      <td>12/03/2025</td>\n",
       "      <td>Smartphone</td>\n",
       "      <td>Electronics</td>\n",
       "      <td>500.000000</td>\n",
       "      <td>1</td>\n",
       "      <td>500</td>\n",
       "      <td>Emily Johnson</td>\n",
       "      <td>Credit Card</td>\n",
       "      <td>Cancelled</td>\n",
       "      <td>Credit Card</td>\n",
       "    </tr>\n",
       "  </tbody>\n",
       "</table>\n",
       "</div>"
      ],
      "text/plain": [
       "  Order ID        Date        Product     Category       Price  Quantity  \\\n",
       "0  ord0001  14/03/2025  Running Shoes     Footwear   60.000000         3   \n",
       "1  ord0002  20/03/2025     Headphones  Electronics  100.000000         4   \n",
       "2  ord0003  15/02/2025  Running Shoes     Footwear   60.000000         2   \n",
       "3  ord0004  19/02/2025  Running Shoes     Footwear  346.740891         3   \n",
       "4  ord0005  10/03/2025     Smartwatch  Electronics  150.000000         3   \n",
       "5  ord0006  14/03/2025        T-Shirt         Ropa   20.000000         1   \n",
       "6  ord0007  18/03/2025     Smartwatch  Electronics  150.000000         4   \n",
       "7  ord0008  02/03/2025     Smartphone  Electronics  500.000000         1   \n",
       "8  ord0009  08/03/2025        T-Shirt         Ropa   20.000000         3   \n",
       "9  ord0010  12/03/2025     Smartphone  Electronics  500.000000         1   \n",
       "\n",
       "   Total Sales  Name Customer Payment Method     Status Payment Methof  \n",
       "0          180     Emma Clark     Debit Card  Cancelled     Debit Card  \n",
       "1          400  Emily Johnson     Debit Card    Pending     Debit Card  \n",
       "2          120       John Doe     Amazon Pay  Cancelled     Amazon Pay  \n",
       "3          180  Olivia Wilson    Credit Card    Pending    Credit Card  \n",
       "4          450     Emma Clark     Debit Card    Pending     Debit Card  \n",
       "5           20       John Doe    Credit Card    Pending    Credit Card  \n",
       "6          600     Emma Clark        Unknown  Completed        Unknown  \n",
       "7          500  Sophia Miller         PayPal  Completed         PayPal  \n",
       "8           60  Sophia Miller         PayPal  Completed         PayPal  \n",
       "9          500  Emily Johnson    Credit Card  Cancelled    Credit Card  "
      ]
     },
     "execution_count": 113,
     "metadata": {},
     "output_type": "execute_result"
    }
   ],
   "source": [
    "df[:10]"
   ]
  },
  {
   "cell_type": "code",
   "execution_count": 114,
   "id": "a133a145",
   "metadata": {},
   "outputs": [
    {
     "name": "stdout",
     "output_type": "stream",
     "text": [
      "<class 'pandas.core.frame.DataFrame'>\n",
      "RangeIndex: 250 entries, 0 to 249\n",
      "Data columns (total 11 columns):\n",
      " #   Column          Non-Null Count  Dtype  \n",
      "---  ------          --------------  -----  \n",
      " 0   Order ID        250 non-null    object \n",
      " 1   Date            250 non-null    object \n",
      " 2   Product         250 non-null    object \n",
      " 3   Category        250 non-null    object \n",
      " 4   Price           250 non-null    float64\n",
      " 5   Quantity        250 non-null    Int64  \n",
      " 6   Total Sales     250 non-null    int64  \n",
      " 7   Name Customer   250 non-null    object \n",
      " 8   Payment Method  250 non-null    object \n",
      " 9   Status          250 non-null    object \n",
      " 10  Payment Methof  250 non-null    object \n",
      "dtypes: Int64(1), float64(1), int64(1), object(8)\n",
      "memory usage: 21.9+ KB\n"
     ]
    }
   ],
   "source": [
    "df.info()"
   ]
  },
  {
   "cell_type": "code",
   "execution_count": 116,
   "id": "df09ec1f",
   "metadata": {},
   "outputs": [
    {
     "ename": "KeyError",
     "evalue": "\"['Payment Methof'] not found in axis\"",
     "output_type": "error",
     "traceback": [
      "\u001b[31m---------------------------------------------------------------------------\u001b[39m",
      "\u001b[31mKeyError\u001b[39m                                  Traceback (most recent call last)",
      "\u001b[36mCell\u001b[39m\u001b[36m \u001b[39m\u001b[32mIn[116]\u001b[39m\u001b[32m, line 1\u001b[39m\n\u001b[32m----> \u001b[39m\u001b[32m1\u001b[39m \u001b[43mdf\u001b[49m\u001b[43m.\u001b[49m\u001b[43mdrop\u001b[49m\u001b[43m(\u001b[49m\u001b[33;43m\"\u001b[39;49m\u001b[33;43mPayment Methof\u001b[39;49m\u001b[33;43m\"\u001b[39;49m\u001b[43m,\u001b[49m\u001b[43m \u001b[49m\u001b[43maxis\u001b[49m\u001b[43m=\u001b[49m\u001b[32;43m1\u001b[39;49m\u001b[43m,\u001b[49m\u001b[43m \u001b[49m\u001b[43minplace\u001b[49m\u001b[43m=\u001b[49m\u001b[38;5;28;43;01mTrue\u001b[39;49;00m\u001b[43m)\u001b[49m\n",
      "\u001b[36mFile \u001b[39m\u001b[32mc:\\Users\\danny\\AppData\\Local\\Programs\\Python\\Python313\\Lib\\site-packages\\pandas\\core\\frame.py:5581\u001b[39m, in \u001b[36mDataFrame.drop\u001b[39m\u001b[34m(self, labels, axis, index, columns, level, inplace, errors)\u001b[39m\n\u001b[32m   5433\u001b[39m \u001b[38;5;28;01mdef\u001b[39;00m\u001b[38;5;250m \u001b[39m\u001b[34mdrop\u001b[39m(\n\u001b[32m   5434\u001b[39m     \u001b[38;5;28mself\u001b[39m,\n\u001b[32m   5435\u001b[39m     labels: IndexLabel | \u001b[38;5;28;01mNone\u001b[39;00m = \u001b[38;5;28;01mNone\u001b[39;00m,\n\u001b[32m   (...)\u001b[39m\u001b[32m   5442\u001b[39m     errors: IgnoreRaise = \u001b[33m\"\u001b[39m\u001b[33mraise\u001b[39m\u001b[33m\"\u001b[39m,\n\u001b[32m   5443\u001b[39m ) -> DataFrame | \u001b[38;5;28;01mNone\u001b[39;00m:\n\u001b[32m   5444\u001b[39m \u001b[38;5;250m    \u001b[39m\u001b[33;03m\"\"\"\u001b[39;00m\n\u001b[32m   5445\u001b[39m \u001b[33;03m    Drop specified labels from rows or columns.\u001b[39;00m\n\u001b[32m   5446\u001b[39m \n\u001b[32m   (...)\u001b[39m\u001b[32m   5579\u001b[39m \u001b[33;03m            weight  1.0     0.8\u001b[39;00m\n\u001b[32m   5580\u001b[39m \u001b[33;03m    \"\"\"\u001b[39;00m\n\u001b[32m-> \u001b[39m\u001b[32m5581\u001b[39m     \u001b[38;5;28;01mreturn\u001b[39;00m \u001b[38;5;28;43msuper\u001b[39;49m\u001b[43m(\u001b[49m\u001b[43m)\u001b[49m\u001b[43m.\u001b[49m\u001b[43mdrop\u001b[49m\u001b[43m(\u001b[49m\n\u001b[32m   5582\u001b[39m \u001b[43m        \u001b[49m\u001b[43mlabels\u001b[49m\u001b[43m=\u001b[49m\u001b[43mlabels\u001b[49m\u001b[43m,\u001b[49m\n\u001b[32m   5583\u001b[39m \u001b[43m        \u001b[49m\u001b[43maxis\u001b[49m\u001b[43m=\u001b[49m\u001b[43maxis\u001b[49m\u001b[43m,\u001b[49m\n\u001b[32m   5584\u001b[39m \u001b[43m        \u001b[49m\u001b[43mindex\u001b[49m\u001b[43m=\u001b[49m\u001b[43mindex\u001b[49m\u001b[43m,\u001b[49m\n\u001b[32m   5585\u001b[39m \u001b[43m        \u001b[49m\u001b[43mcolumns\u001b[49m\u001b[43m=\u001b[49m\u001b[43mcolumns\u001b[49m\u001b[43m,\u001b[49m\n\u001b[32m   5586\u001b[39m \u001b[43m        \u001b[49m\u001b[43mlevel\u001b[49m\u001b[43m=\u001b[49m\u001b[43mlevel\u001b[49m\u001b[43m,\u001b[49m\n\u001b[32m   5587\u001b[39m \u001b[43m        \u001b[49m\u001b[43minplace\u001b[49m\u001b[43m=\u001b[49m\u001b[43minplace\u001b[49m\u001b[43m,\u001b[49m\n\u001b[32m   5588\u001b[39m \u001b[43m        \u001b[49m\u001b[43merrors\u001b[49m\u001b[43m=\u001b[49m\u001b[43merrors\u001b[49m\u001b[43m,\u001b[49m\n\u001b[32m   5589\u001b[39m \u001b[43m    \u001b[49m\u001b[43m)\u001b[49m\n",
      "\u001b[36mFile \u001b[39m\u001b[32mc:\\Users\\danny\\AppData\\Local\\Programs\\Python\\Python313\\Lib\\site-packages\\pandas\\core\\generic.py:4788\u001b[39m, in \u001b[36mNDFrame.drop\u001b[39m\u001b[34m(self, labels, axis, index, columns, level, inplace, errors)\u001b[39m\n\u001b[32m   4786\u001b[39m \u001b[38;5;28;01mfor\u001b[39;00m axis, labels \u001b[38;5;129;01min\u001b[39;00m axes.items():\n\u001b[32m   4787\u001b[39m     \u001b[38;5;28;01mif\u001b[39;00m labels \u001b[38;5;129;01mis\u001b[39;00m \u001b[38;5;129;01mnot\u001b[39;00m \u001b[38;5;28;01mNone\u001b[39;00m:\n\u001b[32m-> \u001b[39m\u001b[32m4788\u001b[39m         obj = \u001b[43mobj\u001b[49m\u001b[43m.\u001b[49m\u001b[43m_drop_axis\u001b[49m\u001b[43m(\u001b[49m\u001b[43mlabels\u001b[49m\u001b[43m,\u001b[49m\u001b[43m \u001b[49m\u001b[43maxis\u001b[49m\u001b[43m,\u001b[49m\u001b[43m \u001b[49m\u001b[43mlevel\u001b[49m\u001b[43m=\u001b[49m\u001b[43mlevel\u001b[49m\u001b[43m,\u001b[49m\u001b[43m \u001b[49m\u001b[43merrors\u001b[49m\u001b[43m=\u001b[49m\u001b[43merrors\u001b[49m\u001b[43m)\u001b[49m\n\u001b[32m   4790\u001b[39m \u001b[38;5;28;01mif\u001b[39;00m inplace:\n\u001b[32m   4791\u001b[39m     \u001b[38;5;28mself\u001b[39m._update_inplace(obj)\n",
      "\u001b[36mFile \u001b[39m\u001b[32mc:\\Users\\danny\\AppData\\Local\\Programs\\Python\\Python313\\Lib\\site-packages\\pandas\\core\\generic.py:4830\u001b[39m, in \u001b[36mNDFrame._drop_axis\u001b[39m\u001b[34m(self, labels, axis, level, errors, only_slice)\u001b[39m\n\u001b[32m   4828\u001b[39m         new_axis = axis.drop(labels, level=level, errors=errors)\n\u001b[32m   4829\u001b[39m     \u001b[38;5;28;01melse\u001b[39;00m:\n\u001b[32m-> \u001b[39m\u001b[32m4830\u001b[39m         new_axis = \u001b[43maxis\u001b[49m\u001b[43m.\u001b[49m\u001b[43mdrop\u001b[49m\u001b[43m(\u001b[49m\u001b[43mlabels\u001b[49m\u001b[43m,\u001b[49m\u001b[43m \u001b[49m\u001b[43merrors\u001b[49m\u001b[43m=\u001b[49m\u001b[43merrors\u001b[49m\u001b[43m)\u001b[49m\n\u001b[32m   4831\u001b[39m     indexer = axis.get_indexer(new_axis)\n\u001b[32m   4833\u001b[39m \u001b[38;5;66;03m# Case for non-unique axis\u001b[39;00m\n\u001b[32m   4834\u001b[39m \u001b[38;5;28;01melse\u001b[39;00m:\n",
      "\u001b[36mFile \u001b[39m\u001b[32mc:\\Users\\danny\\AppData\\Local\\Programs\\Python\\Python313\\Lib\\site-packages\\pandas\\core\\indexes\\base.py:7070\u001b[39m, in \u001b[36mIndex.drop\u001b[39m\u001b[34m(self, labels, errors)\u001b[39m\n\u001b[32m   7068\u001b[39m \u001b[38;5;28;01mif\u001b[39;00m mask.any():\n\u001b[32m   7069\u001b[39m     \u001b[38;5;28;01mif\u001b[39;00m errors != \u001b[33m\"\u001b[39m\u001b[33mignore\u001b[39m\u001b[33m\"\u001b[39m:\n\u001b[32m-> \u001b[39m\u001b[32m7070\u001b[39m         \u001b[38;5;28;01mraise\u001b[39;00m \u001b[38;5;167;01mKeyError\u001b[39;00m(\u001b[33mf\u001b[39m\u001b[33m\"\u001b[39m\u001b[38;5;132;01m{\u001b[39;00mlabels[mask].tolist()\u001b[38;5;132;01m}\u001b[39;00m\u001b[33m not found in axis\u001b[39m\u001b[33m\"\u001b[39m)\n\u001b[32m   7071\u001b[39m     indexer = indexer[~mask]\n\u001b[32m   7072\u001b[39m \u001b[38;5;28;01mreturn\u001b[39;00m \u001b[38;5;28mself\u001b[39m.delete(indexer)\n",
      "\u001b[31mKeyError\u001b[39m: \"['Payment Methof'] not found in axis\""
     ]
    }
   ],
   "source": [
    "df.drop(\"Payment Methof\", axis=1, inplace=True)"
   ]
  },
  {
   "cell_type": "code",
   "execution_count": 117,
   "id": "d0578a5f",
   "metadata": {},
   "outputs": [
    {
     "name": "stdout",
     "output_type": "stream",
     "text": [
      "<class 'pandas.core.frame.DataFrame'>\n",
      "RangeIndex: 250 entries, 0 to 249\n",
      "Data columns (total 10 columns):\n",
      " #   Column          Non-Null Count  Dtype  \n",
      "---  ------          --------------  -----  \n",
      " 0   Order ID        250 non-null    object \n",
      " 1   Date            250 non-null    object \n",
      " 2   Product         250 non-null    object \n",
      " 3   Category        250 non-null    object \n",
      " 4   Price           250 non-null    float64\n",
      " 5   Quantity        250 non-null    Int64  \n",
      " 6   Total Sales     250 non-null    int64  \n",
      " 7   Name Customer   250 non-null    object \n",
      " 8   Payment Method  250 non-null    object \n",
      " 9   Status          250 non-null    object \n",
      "dtypes: Int64(1), float64(1), int64(1), object(7)\n",
      "memory usage: 19.9+ KB\n"
     ]
    }
   ],
   "source": [
    "df.info()"
   ]
  },
  {
   "cell_type": "code",
   "execution_count": 118,
   "id": "e0ae2785",
   "metadata": {},
   "outputs": [
    {
     "data": {
      "text/html": [
       "<div>\n",
       "<style scoped>\n",
       "    .dataframe tbody tr th:only-of-type {\n",
       "        vertical-align: middle;\n",
       "    }\n",
       "\n",
       "    .dataframe tbody tr th {\n",
       "        vertical-align: top;\n",
       "    }\n",
       "\n",
       "    .dataframe thead th {\n",
       "        text-align: right;\n",
       "    }\n",
       "</style>\n",
       "<table border=\"1\" class=\"dataframe\">\n",
       "  <thead>\n",
       "    <tr style=\"text-align: right;\">\n",
       "      <th></th>\n",
       "      <th>Order ID</th>\n",
       "      <th>Date</th>\n",
       "      <th>Product</th>\n",
       "      <th>Category</th>\n",
       "      <th>Price</th>\n",
       "      <th>Quantity</th>\n",
       "      <th>Total Sales</th>\n",
       "      <th>Name Customer</th>\n",
       "      <th>Payment Method</th>\n",
       "      <th>Status</th>\n",
       "    </tr>\n",
       "  </thead>\n",
       "  <tbody>\n",
       "    <tr>\n",
       "      <th>0</th>\n",
       "      <td>ord0001</td>\n",
       "      <td>14/03/2025</td>\n",
       "      <td>Running Shoes</td>\n",
       "      <td>Footwear</td>\n",
       "      <td>60.000000</td>\n",
       "      <td>3</td>\n",
       "      <td>180</td>\n",
       "      <td>Emma Clark</td>\n",
       "      <td>Debit Card</td>\n",
       "      <td>Cancelled</td>\n",
       "    </tr>\n",
       "    <tr>\n",
       "      <th>1</th>\n",
       "      <td>ord0002</td>\n",
       "      <td>20/03/2025</td>\n",
       "      <td>Headphones</td>\n",
       "      <td>Electronics</td>\n",
       "      <td>100.000000</td>\n",
       "      <td>4</td>\n",
       "      <td>400</td>\n",
       "      <td>Emily Johnson</td>\n",
       "      <td>Debit Card</td>\n",
       "      <td>Pending</td>\n",
       "    </tr>\n",
       "    <tr>\n",
       "      <th>2</th>\n",
       "      <td>ord0003</td>\n",
       "      <td>15/02/2025</td>\n",
       "      <td>Running Shoes</td>\n",
       "      <td>Footwear</td>\n",
       "      <td>60.000000</td>\n",
       "      <td>2</td>\n",
       "      <td>120</td>\n",
       "      <td>John Doe</td>\n",
       "      <td>Amazon Pay</td>\n",
       "      <td>Cancelled</td>\n",
       "    </tr>\n",
       "    <tr>\n",
       "      <th>3</th>\n",
       "      <td>ord0004</td>\n",
       "      <td>19/02/2025</td>\n",
       "      <td>Running Shoes</td>\n",
       "      <td>Footwear</td>\n",
       "      <td>346.740891</td>\n",
       "      <td>3</td>\n",
       "      <td>180</td>\n",
       "      <td>Olivia Wilson</td>\n",
       "      <td>Credit Card</td>\n",
       "      <td>Pending</td>\n",
       "    </tr>\n",
       "    <tr>\n",
       "      <th>4</th>\n",
       "      <td>ord0005</td>\n",
       "      <td>10/03/2025</td>\n",
       "      <td>Smartwatch</td>\n",
       "      <td>Electronics</td>\n",
       "      <td>150.000000</td>\n",
       "      <td>3</td>\n",
       "      <td>450</td>\n",
       "      <td>Emma Clark</td>\n",
       "      <td>Debit Card</td>\n",
       "      <td>Pending</td>\n",
       "    </tr>\n",
       "  </tbody>\n",
       "</table>\n",
       "</div>"
      ],
      "text/plain": [
       "  Order ID        Date        Product     Category       Price  Quantity  \\\n",
       "0  ord0001  14/03/2025  Running Shoes     Footwear   60.000000         3   \n",
       "1  ord0002  20/03/2025     Headphones  Electronics  100.000000         4   \n",
       "2  ord0003  15/02/2025  Running Shoes     Footwear   60.000000         2   \n",
       "3  ord0004  19/02/2025  Running Shoes     Footwear  346.740891         3   \n",
       "4  ord0005  10/03/2025     Smartwatch  Electronics  150.000000         3   \n",
       "\n",
       "   Total Sales  Name Customer Payment Method     Status  \n",
       "0          180     Emma Clark     Debit Card  Cancelled  \n",
       "1          400  Emily Johnson     Debit Card    Pending  \n",
       "2          120       John Doe     Amazon Pay  Cancelled  \n",
       "3          180  Olivia Wilson    Credit Card    Pending  \n",
       "4          450     Emma Clark     Debit Card    Pending  "
      ]
     },
     "execution_count": 118,
     "metadata": {},
     "output_type": "execute_result"
    }
   ],
   "source": [
    "df[:5]"
   ]
  },
  {
   "cell_type": "code",
   "execution_count": 120,
   "id": "b88c2561",
   "metadata": {},
   "outputs": [],
   "source": [
    "df.to_csv(\"amazon_sales_data_cleaned2025.csv\", index=False)"
   ]
  }
 ],
 "metadata": {
  "kernelspec": {
   "display_name": "Python 3",
   "language": "python",
   "name": "python3"
  },
  "language_info": {
   "codemirror_mode": {
    "name": "ipython",
    "version": 3
   },
   "file_extension": ".py",
   "mimetype": "text/x-python",
   "name": "python",
   "nbconvert_exporter": "python",
   "pygments_lexer": "ipython3",
   "version": "3.13.2"
  }
 },
 "nbformat": 4,
 "nbformat_minor": 5
}
