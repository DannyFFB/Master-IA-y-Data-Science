{
 "cells": [
  {
   "cell_type": "code",
   "execution_count": 65,
   "id": "764cd75a",
   "metadata": {},
   "outputs": [
    {
     "name": "stdout",
     "output_type": "stream",
     "text": [
      "<class 'pandas.core.frame.DataFrame'>\n",
      "RangeIndex: 10 entries, 0 to 9\n",
      "Data columns (total 6 columns):\n",
      " #   Column          Non-Null Count  Dtype  \n",
      "---  ------          --------------  -----  \n",
      " 0   Nombre          10 non-null     object \n",
      " 1   Edad            8 non-null      float64\n",
      " 2   Ciudad          9 non-null      object \n",
      " 3   Ingreso         9 non-null      float64\n",
      " 4   Genero          10 non-null     object \n",
      " 5   Fecha_Registro  10 non-null     object \n",
      "dtypes: float64(2), object(4)\n",
      "memory usage: 612.0+ bytes\n"
     ]
    }
   ],
   "source": [
    "import pandas as pd\n",
    "\n",
    "df= pd.read_csv (\"datos_ejemplo_pandas.csv\")\n",
    "\n",
    "df.info()"
   ]
  },
  {
   "cell_type": "code",
   "execution_count": 66,
   "id": "6c441f66",
   "metadata": {},
   "outputs": [
    {
     "data": {
      "text/plain": [
       "Nombre            0\n",
       "Edad              2\n",
       "Ciudad            1\n",
       "Ingreso           1\n",
       "Genero            0\n",
       "Fecha_Registro    0\n",
       "dtype: int64"
      ]
     },
     "execution_count": 66,
     "metadata": {},
     "output_type": "execute_result"
    }
   ],
   "source": [
    "df.isnull().sum()\n"
   ]
  },
  {
   "cell_type": "code",
   "execution_count": 67,
   "id": "4f3722ba",
   "metadata": {},
   "outputs": [
    {
     "name": "stderr",
     "output_type": "stream",
     "text": [
      "C:\\Users\\danny\\AppData\\Local\\Temp\\ipykernel_10916\\445293927.py:1: FutureWarning: A value is trying to be set on a copy of a DataFrame or Series through chained assignment using an inplace method.\n",
      "The behavior will change in pandas 3.0. This inplace method will never work because the intermediate object on which we are setting values always behaves as a copy.\n",
      "\n",
      "For example, when doing 'df[col].method(value, inplace=True)', try using 'df.method({col: value}, inplace=True)' or df[col] = df[col].method(value) instead, to perform the operation inplace on the original object.\n",
      "\n",
      "\n",
      "  df[\"Edad\"].fillna(df[\"Edad\"].mean(), inplace=True)\n"
     ]
    }
   ],
   "source": [
    "df[\"Edad\"].fillna(df[\"Edad\"].mean(), inplace=True)"
   ]
  },
  {
   "cell_type": "code",
   "execution_count": 68,
   "id": "3a73c670",
   "metadata": {},
   "outputs": [
    {
     "data": {
      "text/plain": [
       "0    23.000\n",
       "1    34.000\n",
       "2    34.625\n",
       "3    45.000\n",
       "4    31.000\n",
       "Name: Edad, dtype: float64"
      ]
     },
     "execution_count": 68,
     "metadata": {},
     "output_type": "execute_result"
    }
   ],
   "source": [
    "df[\"Edad\"].head()"
   ]
  },
  {
   "cell_type": "code",
   "execution_count": 69,
   "id": "cd8574a9",
   "metadata": {},
   "outputs": [
    {
     "data": {
      "text/plain": [
       "0    23\n",
       "1    34\n",
       "2    34\n",
       "3    45\n",
       "4    31\n",
       "5    38\n",
       "6    29\n",
       "7    34\n",
       "8    41\n",
       "9    36\n",
       "Name: Edad, dtype: int64"
      ]
     },
     "execution_count": 69,
     "metadata": {},
     "output_type": "execute_result"
    }
   ],
   "source": [
    "df[\"Edad\"].astype(int)"
   ]
  },
  {
   "cell_type": "code",
   "execution_count": 70,
   "id": "99af5542",
   "metadata": {},
   "outputs": [
    {
     "data": {
      "text/plain": [
       "Nombre            0\n",
       "Edad              0\n",
       "Ciudad            1\n",
       "Ingreso           1\n",
       "Genero            0\n",
       "Fecha_Registro    0\n",
       "dtype: int64"
      ]
     },
     "execution_count": 70,
     "metadata": {},
     "output_type": "execute_result"
    }
   ],
   "source": [
    "df.isnull().sum()"
   ]
  },
  {
   "cell_type": "code",
   "execution_count": 71,
   "id": "b200bd76",
   "metadata": {},
   "outputs": [
    {
     "name": "stderr",
     "output_type": "stream",
     "text": [
      "C:\\Users\\danny\\AppData\\Local\\Temp\\ipykernel_10916\\3060825278.py:1: FutureWarning: A value is trying to be set on a copy of a DataFrame or Series through chained assignment using an inplace method.\n",
      "The behavior will change in pandas 3.0. This inplace method will never work because the intermediate object on which we are setting values always behaves as a copy.\n",
      "\n",
      "For example, when doing 'df[col].method(value, inplace=True)', try using 'df.method({col: value}, inplace=True)' or df[col] = df[col].method(value) instead, to perform the operation inplace on the original object.\n",
      "\n",
      "\n",
      "  df[\"Ciudad\"].fillna(\"Unknown\", inplace=True)\n"
     ]
    }
   ],
   "source": [
    "df[\"Ciudad\"].fillna(\"Unknown\", inplace=True)"
   ]
  },
  {
   "cell_type": "code",
   "execution_count": 72,
   "id": "38c271f3",
   "metadata": {},
   "outputs": [
    {
     "data": {
      "text/plain": [
       "0       Lima\n",
       "1     Bogotá\n",
       "2       Lima\n",
       "3      Quito\n",
       "4     Bogotá\n",
       "5      Quito\n",
       "6       Lima\n",
       "7       Lima\n",
       "8     Bogotá\n",
       "9    Unknown\n",
       "Name: Ciudad, dtype: object"
      ]
     },
     "execution_count": 72,
     "metadata": {},
     "output_type": "execute_result"
    }
   ],
   "source": [
    "df[\"Ciudad\"].head(10)"
   ]
  },
  {
   "cell_type": "code",
   "execution_count": 73,
   "id": "d8dc7782",
   "metadata": {},
   "outputs": [
    {
     "data": {
      "text/plain": [
       "Nombre            0\n",
       "Edad              0\n",
       "Ciudad            0\n",
       "Ingreso           1\n",
       "Genero            0\n",
       "Fecha_Registro    0\n",
       "dtype: int64"
      ]
     },
     "execution_count": 73,
     "metadata": {},
     "output_type": "execute_result"
    }
   ],
   "source": [
    "df.isnull().sum()"
   ]
  },
  {
   "cell_type": "code",
   "execution_count": 74,
   "id": "a427a565",
   "metadata": {},
   "outputs": [
    {
     "name": "stderr",
     "output_type": "stream",
     "text": [
      "C:\\Users\\danny\\AppData\\Local\\Temp\\ipykernel_10916\\3911239987.py:1: FutureWarning: A value is trying to be set on a copy of a DataFrame or Series through chained assignment using an inplace method.\n",
      "The behavior will change in pandas 3.0. This inplace method will never work because the intermediate object on which we are setting values always behaves as a copy.\n",
      "\n",
      "For example, when doing 'df[col].method(value, inplace=True)', try using 'df.method({col: value}, inplace=True)' or df[col] = df[col].method(value) instead, to perform the operation inplace on the original object.\n",
      "\n",
      "\n",
      "  df[\"Ingreso\"].fillna(0, inplace=True)\n"
     ]
    }
   ],
   "source": [
    "df[\"Ingreso\"].fillna(0, inplace=True)"
   ]
  },
  {
   "cell_type": "code",
   "execution_count": 75,
   "id": "46b47d48",
   "metadata": {},
   "outputs": [
    {
     "data": {
      "text/plain": [
       "Nombre            0\n",
       "Edad              0\n",
       "Ciudad            0\n",
       "Ingreso           0\n",
       "Genero            0\n",
       "Fecha_Registro    0\n",
       "dtype: int64"
      ]
     },
     "execution_count": 75,
     "metadata": {},
     "output_type": "execute_result"
    }
   ],
   "source": [
    "df.isnull().sum()"
   ]
  },
  {
   "cell_type": "code",
   "execution_count": 76,
   "id": "b73b6182",
   "metadata": {},
   "outputs": [
    {
     "name": "stdout",
     "output_type": "stream",
     "text": [
      "count      10.000000\n",
      "mean     1600.000000\n",
      "std       635.959468\n",
      "min         0.000000\n",
      "25%      1525.000000\n",
      "50%      1750.000000\n",
      "75%      1975.000000\n",
      "max      2200.000000\n",
      "Name: Ingreso, dtype: float64\n"
     ]
    }
   ],
   "source": [
    "print(df[\"Ingreso\"].describe())\n"
   ]
  },
  {
   "cell_type": "code",
   "execution_count": 77,
   "id": "978e69a4",
   "metadata": {},
   "outputs": [
    {
     "data": {
      "text/plain": [
       "0    1200\n",
       "1    1500\n",
       "2    1600\n",
       "3    2000\n",
       "4    1800\n",
       "5    2100\n",
       "6       0\n",
       "7    1700\n",
       "8    1900\n",
       "9    2200\n",
       "Name: Ingreso, dtype: int64"
      ]
     },
     "execution_count": 77,
     "metadata": {},
     "output_type": "execute_result"
    }
   ],
   "source": [
    "df[\"Ingreso\"].astype(int)"
   ]
  },
  {
   "cell_type": "code",
   "execution_count": 78,
   "id": "bd2b5864",
   "metadata": {},
   "outputs": [
    {
     "data": {
      "text/html": [
       "<div>\n",
       "<style scoped>\n",
       "    .dataframe tbody tr th:only-of-type {\n",
       "        vertical-align: middle;\n",
       "    }\n",
       "\n",
       "    .dataframe tbody tr th {\n",
       "        vertical-align: top;\n",
       "    }\n",
       "\n",
       "    .dataframe thead th {\n",
       "        text-align: right;\n",
       "    }\n",
       "</style>\n",
       "<table border=\"1\" class=\"dataframe\">\n",
       "  <thead>\n",
       "    <tr style=\"text-align: right;\">\n",
       "      <th></th>\n",
       "      <th>Edad</th>\n",
       "      <th>Ingreso</th>\n",
       "    </tr>\n",
       "  </thead>\n",
       "  <tbody>\n",
       "    <tr>\n",
       "      <th>count</th>\n",
       "      <td>10.000000</td>\n",
       "      <td>10.000000</td>\n",
       "    </tr>\n",
       "    <tr>\n",
       "      <th>mean</th>\n",
       "      <td>34.625000</td>\n",
       "      <td>1600.000000</td>\n",
       "    </tr>\n",
       "    <tr>\n",
       "      <th>std</th>\n",
       "      <td>6.163287</td>\n",
       "      <td>635.959468</td>\n",
       "    </tr>\n",
       "    <tr>\n",
       "      <th>min</th>\n",
       "      <td>23.000000</td>\n",
       "      <td>0.000000</td>\n",
       "    </tr>\n",
       "    <tr>\n",
       "      <th>25%</th>\n",
       "      <td>31.750000</td>\n",
       "      <td>1525.000000</td>\n",
       "    </tr>\n",
       "    <tr>\n",
       "      <th>50%</th>\n",
       "      <td>34.625000</td>\n",
       "      <td>1750.000000</td>\n",
       "    </tr>\n",
       "    <tr>\n",
       "      <th>75%</th>\n",
       "      <td>37.500000</td>\n",
       "      <td>1975.000000</td>\n",
       "    </tr>\n",
       "    <tr>\n",
       "      <th>max</th>\n",
       "      <td>45.000000</td>\n",
       "      <td>2200.000000</td>\n",
       "    </tr>\n",
       "  </tbody>\n",
       "</table>\n",
       "</div>"
      ],
      "text/plain": [
       "            Edad      Ingreso\n",
       "count  10.000000    10.000000\n",
       "mean   34.625000  1600.000000\n",
       "std     6.163287   635.959468\n",
       "min    23.000000     0.000000\n",
       "25%    31.750000  1525.000000\n",
       "50%    34.625000  1750.000000\n",
       "75%    37.500000  1975.000000\n",
       "max    45.000000  2200.000000"
      ]
     },
     "execution_count": 78,
     "metadata": {},
     "output_type": "execute_result"
    }
   ],
   "source": [
    "df.describe()"
   ]
  },
  {
   "cell_type": "code",
   "execution_count": 92,
   "id": "77c9b8aa",
   "metadata": {},
   "outputs": [
    {
     "name": "stdout",
     "output_type": "stream",
     "text": [
      "<class 'pandas.core.frame.DataFrame'>\n",
      "RangeIndex: 10 entries, 0 to 9\n",
      "Data columns (total 6 columns):\n",
      " #   Column          Non-Null Count  Dtype  \n",
      "---  ------          --------------  -----  \n",
      " 0   Nombre          10 non-null     object \n",
      " 1   Edad            10 non-null     float64\n",
      " 2   Ciudad          10 non-null     object \n",
      " 3   Ingreso         10 non-null     float64\n",
      " 4   Genero          10 non-null     object \n",
      " 5   Fecha_Registro  10 non-null     object \n",
      "dtypes: float64(2), object(4)\n",
      "memory usage: 612.0+ bytes\n"
     ]
    }
   ],
   "source": [
    "df.info()"
   ]
  },
  {
   "cell_type": "code",
   "execution_count": 93,
   "id": "7b6f69f7",
   "metadata": {},
   "outputs": [
    {
     "name": "stdout",
     "output_type": "stream",
     "text": [
      "   Nombre    Edad   Ciudad  Ingreso Genero Fecha_Registro\n",
      "0     Ana  23.000     Lima   1200.0      F     31/01/2023\n",
      "1    Luis  34.000   Bogotá   1500.0      M     28/02/2023\n",
      "2  Carlos  34.625     Lima   1600.0      M     31/03/2023\n",
      "3   Marta  45.000    Quito   2000.0      F     30/04/2023\n",
      "4   Sofía  31.000   Bogotá   1800.0      F     31/05/2023\n",
      "5   Pedro  38.000    Quito   2100.0      M     30/06/2023\n",
      "6   Lucía  29.000     Lima      0.0      F     31/07/2023\n",
      "7  Andrés  34.625     Lima   1700.0      M     31/08/2023\n",
      "8   Julia  41.000   Bogotá   1900.0      F     30/09/2023\n",
      "9   Diego  36.000  Unknown   2200.0      M     31/10/2023\n"
     ]
    }
   ],
   "source": [
    "print(df)"
   ]
  },
  {
   "cell_type": "code",
   "execution_count": 94,
   "id": "71342149",
   "metadata": {},
   "outputs": [
    {
     "data": {
      "text/plain": [
       "0    23\n",
       "1    34\n",
       "2    34\n",
       "3    45\n",
       "4    31\n",
       "5    38\n",
       "6    29\n",
       "7    34\n",
       "8    41\n",
       "9    36\n",
       "Name: Edad, dtype: int64"
      ]
     },
     "execution_count": 94,
     "metadata": {},
     "output_type": "execute_result"
    }
   ],
   "source": [
    "df[\"Edad\"].astype(int)"
   ]
  },
  {
   "cell_type": "code",
   "execution_count": 95,
   "id": "8bbd40c6",
   "metadata": {},
   "outputs": [
    {
     "name": "stdout",
     "output_type": "stream",
     "text": [
      "   Nombre    Edad   Ciudad  Ingreso Genero Fecha_Registro\n",
      "0     Ana  23.000     Lima   1200.0      F     31/01/2023\n",
      "1    Luis  34.000   Bogotá   1500.0      M     28/02/2023\n",
      "2  Carlos  34.625     Lima   1600.0      M     31/03/2023\n",
      "3   Marta  45.000    Quito   2000.0      F     30/04/2023\n",
      "4   Sofía  31.000   Bogotá   1800.0      F     31/05/2023\n",
      "5   Pedro  38.000    Quito   2100.0      M     30/06/2023\n",
      "6   Lucía  29.000     Lima      0.0      F     31/07/2023\n",
      "7  Andrés  34.625     Lima   1700.0      M     31/08/2023\n",
      "8   Julia  41.000   Bogotá   1900.0      F     30/09/2023\n",
      "9   Diego  36.000  Unknown   2200.0      M     31/10/2023\n"
     ]
    }
   ],
   "source": [
    "print(df)"
   ]
  },
  {
   "cell_type": "code",
   "execution_count": null,
   "id": "66f47b8f",
   "metadata": {},
   "outputs": [],
   "source": []
  }
 ],
 "metadata": {
  "kernelspec": {
   "display_name": "Python 3",
   "language": "python",
   "name": "python3"
  },
  "language_info": {
   "codemirror_mode": {
    "name": "ipython",
    "version": 3
   },
   "file_extension": ".py",
   "mimetype": "text/x-python",
   "name": "python",
   "nbconvert_exporter": "python",
   "pygments_lexer": "ipython3",
   "version": "3.13.2"
  }
 },
 "nbformat": 4,
 "nbformat_minor": 5
}
