{
 "cells": [
  {
   "cell_type": "markdown",
   "metadata": {},
   "source": [
    "En este caso se verifica que la palabra ingresada sea polindroma gracias a un IF y ELSE que son condicionales que buscan la verdad, que son un \"SI\" y \"SI NO\"."
   ]
  },
  {
   "cell_type": "code",
   "execution_count": 1,
   "metadata": {},
   "outputs": [
    {
     "name": "stdout",
     "output_type": "stream",
     "text": [
      "La palabra es Palindroma\n",
      "radar\n"
     ]
    }
   ],
   "source": [
    "palabra = \"radar\"\n",
    "palabrainversa =\"\"\n",
    "contadorfin = -1\n",
    "\n",
    "for letra in palabra:\n",
    "    palabrainversa += palabra[contadorfin]\n",
    "    contadorfin -= 1 \n",
    "\n",
    "if palabra == palabrainversa:\n",
    "    print(\"La palabra es Palindroma\")\n",
    "else:\n",
    "    print(\"La palabra no es Palindroma\")\n",
    "\n",
    "print(palabrainversa)"
   ]
  },
  {
   "cell_type": "markdown",
   "metadata": {},
   "source": [
    "Operadores Logicos:\n",
    "And (&&) \n",
    "Or (||)\n",
    "Not (!)"
   ]
  },
  {
   "cell_type": "code",
   "execution_count": null,
   "metadata": {},
   "outputs": [
    {
     "name": "stdout",
     "output_type": "stream",
     "text": [
      "Puede manejar\n"
     ]
    }
   ],
   "source": [
    "edad = 26\n",
    "tiene_licnecia = True\n",
    "\n",
    "if edad >= 18 and tiene_licnecia:\n",
    "    print(\"Puede manejar\")\n",
    "else:\n",
    "    print(\"No puede manejar\")"
   ]
  },
  {
   "cell_type": "markdown",
   "metadata": {},
   "source": [
    "elif es una pregunta de seguimiento lo que permite seguir con la relacion del codigo, con el If crea una nueva pregunta"
   ]
  },
  {
   "cell_type": "code",
   "execution_count": 10,
   "metadata": {},
   "outputs": [
    {
     "name": "stdout",
     "output_type": "stream",
     "text": [
      "Puede manejar\n"
     ]
    }
   ],
   "source": [
    "edad = 26\n",
    "tiene_licnecia = True\n",
    "\n",
    "if edad >= 18 and tiene_licnecia:\n",
    "    print(\"Puede manejar\")\n",
    "elif edad >= 18 and not tiene_licnecia:\n",
    "    print(\"No puede manejar, no tiene licencia\")\n",
    "else:\n",
    "    print(\"No puede manejar es menor de edad\")"
   ]
  }
 ],
 "metadata": {
  "kernelspec": {
   "display_name": "Python 3",
   "language": "python",
   "name": "python3"
  },
  "language_info": {
   "codemirror_mode": {
    "name": "ipython",
    "version": 3
   },
   "file_extension": ".py",
   "mimetype": "text/x-python",
   "name": "python",
   "nbconvert_exporter": "python",
   "pygments_lexer": "ipython3",
   "version": "3.13.2"
  }
 },
 "nbformat": 4,
 "nbformat_minor": 2
}
