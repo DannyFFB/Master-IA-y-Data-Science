{
 "cells": [
  {
   "cell_type": "markdown",
   "id": "a41a5444",
   "metadata": {},
   "source": [
    "Bucles:\n",
    "\n",
    "For:\n",
    "Permite repertir x cantidad veces.\n",
    "\n",
    "Sintaxis: Primero \"For\" despues \"(cualquier palabra que no sea reservada)\" seguido esto, siempre va con \"in\" despues se le da lo que tiene que repetir, si es un numero da las vueltas pero si se le da un string va a dar vueltas por cada caracter que tenga\n",
    "    \n"
   ]
  },
  {
   "cell_type": "code",
   "execution_count": 4,
   "id": "705f0eee",
   "metadata": {},
   "outputs": [
    {
     "name": "stdout",
     "output_type": "stream",
     "text": [
      "hola\n",
      "hola\n",
      "hola\n",
      "hola\n",
      "hola\n"
     ]
    }
   ],
   "source": [
    "for a in range(5):\n",
    "    print (\"hola\")"
   ]
  },
  {
   "cell_type": "code",
   "execution_count": 1,
   "id": "6eb47df8",
   "metadata": {},
   "outputs": [
    {
     "name": "stdout",
     "output_type": "stream",
     "text": [
      "R\n",
      "a\n",
      "d\n",
      "a\n",
      "r\n"
     ]
    }
   ],
   "source": [
    "palabra = \"Radar\"\n",
    "\n",
    "for a in palabra:\n",
    "    print(a)\n"
   ]
  },
  {
   "cell_type": "markdown",
   "id": "3ff57e40",
   "metadata": {},
   "source": [
    "En este caso palabra inversa esta vacio por q es donde se va a guardar la informacion de las iteraciones del bucle. Contadorfin hace referenacia a q siempre va a buscar la ultima letra. En el ciclo for, en la variable (palabrainversa) se va a agregar la ultima letra (contadorfin) de la variable (palabra). Y al final del ciclo se va a restar del (contadorfin) 1, como es una resta va ir en decrecimiento, buscando de la ultima letra a la primera. y asi se va a repetir el ciclo hasta que termine la iteraciones o la cantidad de letras de la palabra"
   ]
  },
  {
   "cell_type": "code",
   "execution_count": null,
   "id": "a14686e8",
   "metadata": {},
   "outputs": [
    {
     "name": "stdout",
     "output_type": "stream",
     "text": [
      "radar\n"
     ]
    }
   ],
   "source": [
    "palabra = \"radar\"\n",
    "palabrainversa =\"\"\n",
    "contadorfin = -1\n",
    "\n",
    "for letra in palabra:\n",
    "    palabrainversa += palabra[contadorfin]\n",
    "    contadorfin -= 1 \n",
    "print(palabrainversa)"
   ]
  }
 ],
 "metadata": {
  "kernelspec": {
   "display_name": "Python 3",
   "language": "python",
   "name": "python3"
  },
  "language_info": {
   "codemirror_mode": {
    "name": "ipython",
    "version": 3
   },
   "file_extension": ".py",
   "mimetype": "text/x-python",
   "name": "python",
   "nbconvert_exporter": "python",
   "pygments_lexer": "ipython3",
   "version": "3.13.2"
  }
 },
 "nbformat": 4,
 "nbformat_minor": 5
}
