{
 "cells": [
  {
   "cell_type": "markdown",
   "metadata": {},
   "source": [
    "Funciones de listas"
   ]
  },
  {
   "cell_type": "markdown",
   "metadata": {},
   "source": [
    "sort(): Ordena la lista en orden ascendente."
   ]
  },
  {
   "cell_type": "code",
   "execution_count": 1,
   "metadata": {},
   "outputs": [
    {
     "name": "stdout",
     "output_type": "stream",
     "text": [
      "[1.3, 1.6, 2.5, 3, 3.5, 4, 4.8, 5]\n"
     ]
    }
   ],
   "source": [
    "Calificacion = [2.5,3,4.8,3.5,1.3,5,1.6,4]\n",
    "Calificacion.sort()\n",
    "print(Calificacion)"
   ]
  },
  {
   "cell_type": "markdown",
   "metadata": {},
   "source": [
    "tipo(lista): Devuelve el tipo de clase de un objeto"
   ]
  },
  {
   "cell_type": "code",
   "execution_count": 1,
   "metadata": {},
   "outputs": [
    {
     "data": {
      "text/plain": [
       "list"
      ]
     },
     "execution_count": 1,
     "metadata": {},
     "output_type": "execute_result"
    }
   ],
   "source": [
    "Calificacion = [2.5,3,4.8,3.5,1.3,5,1.6,4]\n",
    "type(Calificacion)"
   ]
  },
  {
   "cell_type": "markdown",
   "metadata": {},
   "source": [
    "append(): Añade un único elemento a una lista."
   ]
  },
  {
   "cell_type": "code",
   "execution_count": 2,
   "metadata": {},
   "outputs": [
    {
     "name": "stdout",
     "output_type": "stream",
     "text": [
      "[2.5, 3, 4.8, 3.5, 1.3, 5, 1.6, 4, 1.1]\n"
     ]
    }
   ],
   "source": [
    "Calificacion = [2.5,3,4.8,3.5,1.3,5,1.6,4]\n",
    "Calificacion.append(1.1)\n",
    "print(Calificacion)"
   ]
  },
  {
   "cell_type": "markdown",
   "metadata": {},
   "source": [
    "extend(): Añade varios elementos a una lista."
   ]
  },
  {
   "cell_type": "code",
   "execution_count": 3,
   "metadata": {},
   "outputs": [
    {
     "name": "stdout",
     "output_type": "stream",
     "text": [
      "[2.5, 3, 4.8, 3.5, 1.3, 5, 1.6, 4, 1.1, 3.3]\n"
     ]
    }
   ],
   "source": [
    "Calificacion = [2.5,3,4.8,3.5,1.3,5,1.6,4]\n",
    "Calificacion.extend([1.1,3.3])\n",
    "print(Calificacion)"
   ]
  },
  {
   "cell_type": "markdown",
   "metadata": {},
   "source": [
    "index(): Devuelve la primera aparición del valor especificado."
   ]
  },
  {
   "cell_type": "code",
   "execution_count": 1,
   "metadata": {},
   "outputs": [
    {
     "data": {
      "text/plain": [
       "3"
      ]
     },
     "execution_count": 1,
     "metadata": {},
     "output_type": "execute_result"
    }
   ],
   "source": [
    "Estudiante = [\"Ruben\",\"Jose\",\"Milton\",\"Maria\",\"Juan\",\"Milena\",\"Michelle\",\"Rita\"]\n",
    "Calificacion = [2.5,3,4.8,3.5,1.3,5,1.6,4]\n",
    "Estudiante.index(\"Maria\")\n"
   ]
  },
  {
   "cell_type": "code",
   "execution_count": 2,
   "metadata": {},
   "outputs": [
    {
     "name": "stdout",
     "output_type": "stream",
     "text": [
      "3.5\n"
     ]
    }
   ],
   "source": [
    "Estudiante = [\"Ruben\",\"Jose\",\"Milton\",\"Maria\",\"Juan\",\"Milena\",\"Michelle\",\"Rita\"]\n",
    "Calificacion = [2.5,3,4.8,3.5,1.3,5,1.6,4]\n",
    "Estudiante.index(\"Maria\")\n",
    "print(Calificacion[3])"
   ]
  },
  {
   "cell_type": "markdown",
   "metadata": {},
   "source": [
    "max(lista): Devuelve un elemento de la lista con valor máximo."
   ]
  },
  {
   "cell_type": "code",
   "execution_count": 3,
   "metadata": {},
   "outputs": [
    {
     "name": "stdout",
     "output_type": "stream",
     "text": [
      "5\n"
     ]
    }
   ],
   "source": [
    "Estudiante = [\"Ruben\",\"Jose\",\"Milton\",\"Maria\",\"Juan\",\"Milena\",\"Michelle\",\"Rita\"]\n",
    "Calificacion = [2.5,3,4.8,3.5,1.3,5,1.6,4]\n",
    "CalificacionMax= max(Calificacion)\n",
    "print(CalificacionMax)"
   ]
  },
  {
   "cell_type": "markdown",
   "metadata": {},
   "source": [
    "min() devolverá el valor más bajo de los valores introducidos."
   ]
  },
  {
   "cell_type": "code",
   "execution_count": 4,
   "metadata": {},
   "outputs": [
    {
     "name": "stdout",
     "output_type": "stream",
     "text": [
      "1.3\n"
     ]
    }
   ],
   "source": [
    "Estudiante = [\"Ruben\",\"Jose\",\"Milton\",\"Maria\",\"Juan\",\"Milena\",\"Michelle\",\"Rita\"]\n",
    "Calificacion = [2.5,3,4.8,3.5,1.3,5,1.6,4]\n",
    "CalificacionMin= min(Calificacion)\n",
    "print(CalificacionMin)"
   ]
  },
  {
   "cell_type": "markdown",
   "metadata": {},
   "source": [
    "len(lista): Da la longitud total de la lista."
   ]
  },
  {
   "cell_type": "code",
   "execution_count": 5,
   "metadata": {},
   "outputs": [
    {
     "name": "stdout",
     "output_type": "stream",
     "text": [
      "Total estudiantes calificados 8\n"
     ]
    }
   ],
   "source": [
    "Estudiante = [\"Ruben\",\"Jose\",\"Milton\",\"Maria\",\"Juan\",\"Milena\",\"Michelle\",\"Rita\"]\n",
    "Calificacion = [2.5,3,4.8,3.5,1.3,5,1.6,4]\n",
    "print(\"Total estudiantes calificados\",(len(Calificacion)))"
   ]
  },
  {
   "cell_type": "markdown",
   "metadata": {},
   "source": [
    "list(seq): Convierte una tupla en una lista."
   ]
  },
  {
   "cell_type": "code",
   "execution_count": 6,
   "metadata": {},
   "outputs": [
    {
     "name": "stdout",
     "output_type": "stream",
     "text": [
      "[2.5, 3.0, 4.8, 3.5, 1.3, 5.0, 1.6, 4.0]\n",
      "[3.3, 2.6, 4.8, 5.0, 3.2, 1.8, 4.3, 2.0]\n"
     ]
    }
   ],
   "source": [
    "Calificacion = [2.5,3.0,4.8,3.5,1.3,5.0,1.6,4.0]\n",
    "print(Calificacion)\n",
    "Calificacion1 = [3.3,2.6,4.8,5.0,3.2,1.8,4.3,2.0]\n",
    "print(Calificacion1)\n"
   ]
  }
 ],
 "metadata": {
  "kernelspec": {
   "display_name": "Python 3",
   "language": "python",
   "name": "python3"
  },
  "language_info": {
   "codemirror_mode": {
    "name": "ipython",
    "version": 3
   },
   "file_extension": ".py",
   "mimetype": "text/x-python",
   "name": "python",
   "nbconvert_exporter": "python",
   "pygments_lexer": "ipython3",
   "version": "3.13.2"
  }
 },
 "nbformat": 4,
 "nbformat_minor": 2
}
