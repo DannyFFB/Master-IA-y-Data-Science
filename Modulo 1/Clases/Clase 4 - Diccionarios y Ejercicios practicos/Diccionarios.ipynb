{
 "cells": [
  {
   "cell_type": "markdown",
   "id": "a695fc63",
   "metadata": {},
   "source": [
    "Diccionarios:\n",
    "\n",
    "Estos se define por Claves y valores.\n",
    "Son modificables\n",
    "No permite duplicidades"
   ]
  },
  {
   "cell_type": "code",
   "execution_count": 3,
   "id": "72c6dc41",
   "metadata": {},
   "outputs": [
    {
     "name": "stdout",
     "output_type": "stream",
     "text": [
      "Matematicas\n"
     ]
    }
   ],
   "source": [
    "Clases = {\n",
    "    \"Lunes\" : \"Matematicas\",\n",
    "    \"Viernes\" : \"Historia\"\n",
    "}\n",
    "\n",
    "print(Clases[\"Lunes\"])"
   ]
  },
  {
   "cell_type": "markdown",
   "id": "26d807be",
   "metadata": {},
   "source": [
    "Keys: Trae las keys del diccionario"
   ]
  },
  {
   "cell_type": "code",
   "execution_count": 4,
   "id": "3555e7c7",
   "metadata": {},
   "outputs": [
    {
     "name": "stdout",
     "output_type": "stream",
     "text": [
      "dict_keys(['Lunes', 'Viernes'])\n"
     ]
    }
   ],
   "source": [
    "Clases = {\n",
    "    \"Lunes\" : \"Matematicas\",\n",
    "    \"Viernes\" : \"Historia\"\n",
    "}\n",
    "x= Clases.keys()\n",
    "\n",
    "print(x)"
   ]
  },
  {
   "cell_type": "markdown",
   "id": "e87feb60",
   "metadata": {},
   "source": [
    "Values: Trae los valores de las Keys"
   ]
  },
  {
   "cell_type": "code",
   "execution_count": 5,
   "id": "952319f8",
   "metadata": {},
   "outputs": [
    {
     "name": "stdout",
     "output_type": "stream",
     "text": [
      "dict_values(['Matematicas', 'Historia'])\n"
     ]
    }
   ],
   "source": [
    "Clases = {\n",
    "    \"Lunes\" : \"Matematicas\",\n",
    "    \"Viernes\" : \"Historia\"\n",
    "}\n",
    "x= Clases.values()\n",
    "\n",
    "print(x)"
   ]
  },
  {
   "cell_type": "markdown",
   "id": "c7011283",
   "metadata": {},
   "source": [
    "con Keys sirve para agregar tambien elementos al diccionario"
   ]
  },
  {
   "cell_type": "code",
   "execution_count": 8,
   "id": "1f5195e9",
   "metadata": {},
   "outputs": [
    {
     "name": "stdout",
     "output_type": "stream",
     "text": [
      "dict_keys(['Lunes', 'Viernes'])\n",
      "dict_keys(['Lunes', 'Viernes', 'Domingo'])\n"
     ]
    }
   ],
   "source": [
    "Clases = {\n",
    "    \"Lunes\" : \"Matematicas\",\n",
    "    \"Viernes\" : \"Historia\"\n",
    "}\n",
    "x= Clases.keys()\n",
    "\n",
    "print(x)\n",
    "\n",
    "Clases[\"Domingo\"] = \"IA\"\n",
    "\n",
    "print(x)"
   ]
  },
  {
   "cell_type": "markdown",
   "id": "457a082b",
   "metadata": {},
   "source": [
    "Con Values tambien se puede modificar valores del diccionario"
   ]
  },
  {
   "cell_type": "code",
   "execution_count": 11,
   "id": "559d1601",
   "metadata": {},
   "outputs": [
    {
     "name": "stdout",
     "output_type": "stream",
     "text": [
      "dict_values(['Matematicas', 'Historia'])\n",
      "dict_values(['Matematicas', 'Historia', 'IA'])\n"
     ]
    }
   ],
   "source": [
    "Clases = {\n",
    "    \"Lunes\" : \"Matematicas\",\n",
    "    \"Viernes\" : \"Historia\"\n",
    "}\n",
    "x= Clases.values()\n",
    "\n",
    "print(x)\n",
    "\n",
    "Clases[\"Domingo\"] = \"IA\"\n",
    "\n",
    "print(x)"
   ]
  },
  {
   "cell_type": "markdown",
   "id": "f9295abe",
   "metadata": {},
   "source": [
    "Item: Combierte los items del diccionario en una tupla dentro de una lista"
   ]
  },
  {
   "cell_type": "code",
   "execution_count": 12,
   "id": "545d7ec6",
   "metadata": {},
   "outputs": [
    {
     "name": "stdout",
     "output_type": "stream",
     "text": [
      "dict_items([('Lunes', 'Matematicas'), ('Viernes', 'Historia')])\n"
     ]
    }
   ],
   "source": [
    "Clases = {\n",
    "    \"Lunes\" : \"Matematicas\",\n",
    "    \"Viernes\" : \"Historia\"\n",
    "}\n",
    "x= Clases.items()\n",
    "\n",
    "print(x)"
   ]
  },
  {
   "cell_type": "markdown",
   "id": "4b001e44",
   "metadata": {},
   "source": [
    "Update: Sirve para agregar pero tiene con los corchetes {  }"
   ]
  },
  {
   "cell_type": "code",
   "execution_count": 14,
   "id": "96931f4d",
   "metadata": {},
   "outputs": [
    {
     "name": "stdout",
     "output_type": "stream",
     "text": [
      "{'Lunes': 'Matematicas', 'Viernes': 'Historia', 'Domingo': 'IA'}\n"
     ]
    }
   ],
   "source": [
    "Clases = {\n",
    "    \"Lunes\" : \"Matematicas\",\n",
    "    \"Viernes\" : \"Historia\"\n",
    "}\n",
    "Clases.update({\"Domingo\" : \"IA\"})\n",
    "\n",
    "print(Clases)"
   ]
  }
 ],
 "metadata": {
  "kernelspec": {
   "display_name": "Python 3",
   "language": "python",
   "name": "python3"
  },
  "language_info": {
   "codemirror_mode": {
    "name": "ipython",
    "version": 3
   },
   "file_extension": ".py",
   "mimetype": "text/x-python",
   "name": "python",
   "nbconvert_exporter": "python",
   "pygments_lexer": "ipython3",
   "version": "3.13.2"
  }
 },
 "nbformat": 4,
 "nbformat_minor": 5
}
