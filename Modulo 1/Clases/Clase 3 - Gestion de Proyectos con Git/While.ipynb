{
 "cells": [
  {
   "cell_type": "markdown",
   "id": "f870a369",
   "metadata": {},
   "source": [
    "While\n",
    "\n",
    "Permiten repetir instrucciones muchas veces sin necesidad de ser linea por linea"
   ]
  },
  {
   "cell_type": "code",
   "execution_count": 9,
   "id": "383cc3a1",
   "metadata": {},
   "outputs": [
    {
     "name": "stdout",
     "output_type": "stream",
     "text": [
      "1\n",
      "2\n",
      "3\n",
      "4\n",
      "5\n",
      "6\n",
      "7\n",
      "8\n",
      "9\n",
      "10\n"
     ]
    }
   ],
   "source": [
    "dias = 1\n",
    "\n",
    "while dias <= 10:\n",
    "    print(dias)\n",
    "    dias += 1"
   ]
  }
 ],
 "metadata": {
  "kernelspec": {
   "display_name": "Python 3",
   "language": "python",
   "name": "python3"
  },
  "language_info": {
   "codemirror_mode": {
    "name": "ipython",
    "version": 3
   },
   "file_extension": ".py",
   "mimetype": "text/x-python",
   "name": "python",
   "nbconvert_exporter": "python",
   "pygments_lexer": "ipython3",
   "version": "3.13.2"
  }
 },
 "nbformat": 4,
 "nbformat_minor": 5
}
