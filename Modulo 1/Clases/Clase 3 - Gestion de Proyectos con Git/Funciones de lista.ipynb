{
 "cells": [
  {
   "cell_type": "markdown",
   "id": "20ff9366",
   "metadata": {},
   "source": [
    "VER CLASE 2 PARA EL RESTO DE FUNCIONES"
   ]
  },
  {
   "cell_type": "markdown",
   "id": "6d376342",
   "metadata": {},
   "source": [
    "Clear: Elimina los elementos de la lista"
   ]
  },
  {
   "cell_type": "code",
   "execution_count": 1,
   "id": "984704cb",
   "metadata": {},
   "outputs": [
    {
     "name": "stdout",
     "output_type": "stream",
     "text": [
      "[]\n"
     ]
    }
   ],
   "source": [
    "Calificacion = [2.5,3,4.8,3.5,1.3,5,1.6,4]\n",
    "Calificacion.clear()\n",
    "print(Calificacion)"
   ]
  },
  {
   "cell_type": "markdown",
   "id": "0f306078",
   "metadata": {},
   "source": [
    "Copy: retorna una copia de la lista"
   ]
  },
  {
   "cell_type": "code",
   "execution_count": 3,
   "id": "cf1ae1fb",
   "metadata": {},
   "outputs": [
    {
     "name": "stdout",
     "output_type": "stream",
     "text": [
      "[2.5, 3, 4.8, 3.5, 1.3, 5, 1.6, 4]\n"
     ]
    }
   ],
   "source": [
    "Calificacion = [2.5,3,4.8,3.5,1.3,5,1.6,4]\n",
    "Copia = Calificacion.copy()\n",
    "print(Copia)"
   ]
  },
  {
   "cell_type": "markdown",
   "id": "16143bda",
   "metadata": {},
   "source": [
    "Count: Cuenta la cantidad de elementos en la lista"
   ]
  },
  {
   "cell_type": "code",
   "execution_count": 4,
   "id": "9fbbd4b4",
   "metadata": {},
   "outputs": [
    {
     "name": "stdout",
     "output_type": "stream",
     "text": [
      "2\n"
     ]
    }
   ],
   "source": [
    "Calificacion = [2.5,3,4.8,3.5,1.3,5,3,4]\n",
    "x = Calificacion.count(3)\n",
    "print(x)"
   ]
  },
  {
   "cell_type": "markdown",
   "id": "938accec",
   "metadata": {},
   "source": [
    "Insert: inserta un elemento en una posicion especifica"
   ]
  },
  {
   "cell_type": "code",
   "execution_count": 5,
   "id": "384036e3",
   "metadata": {},
   "outputs": [
    {
     "name": "stdout",
     "output_type": "stream",
     "text": [
      "[2.8, 2.5, 3, 4.8, 3.5, 1.3, 5, 1.6, 4]\n"
     ]
    }
   ],
   "source": [
    "Calificacion = [2.5,3,4.8,3.5,1.3,5,1.6,4]\n",
    "Calificacion.insert(0,2.8)\n",
    "print(Calificacion)"
   ]
  },
  {
   "cell_type": "markdown",
   "id": "31aa1af3",
   "metadata": {},
   "source": [
    "Pop: Elimina un elemento de una posicion especifica"
   ]
  },
  {
   "cell_type": "code",
   "execution_count": 6,
   "id": "85c1fd2f",
   "metadata": {},
   "outputs": [
    {
     "name": "stdout",
     "output_type": "stream",
     "text": [
      "[3, 4.8, 3.5, 1.3, 5, 1.6, 4]\n"
     ]
    }
   ],
   "source": [
    "Calificacion = [2.5,3,4.8,3.5,1.3,5,1.6,4]\n",
    "Calificacion.pop(0)\n",
    "print(Calificacion)"
   ]
  },
  {
   "cell_type": "markdown",
   "id": "bdc9343b",
   "metadata": {},
   "source": [
    "Remove: Elimina el elemento que primero aparezca"
   ]
  },
  {
   "cell_type": "code",
   "execution_count": 12,
   "id": "4d462c6b",
   "metadata": {},
   "outputs": [
    {
     "name": "stdout",
     "output_type": "stream",
     "text": [
      "[2.5, 4.8, 3.5, 1.3, 5, 1.6, 4]\n"
     ]
    }
   ],
   "source": [
    "Calificacion = [2.5,5,4.8,3.5,1.3,5,1.6,4]\n",
    "Calificacion.remove(5)\n",
    "print(Calificacion)"
   ]
  },
  {
   "cell_type": "markdown",
   "id": "2a5914b8",
   "metadata": {},
   "source": [
    "reverse: Cambia el orden de la lista"
   ]
  },
  {
   "cell_type": "code",
   "execution_count": 13,
   "id": "8a0917b5",
   "metadata": {},
   "outputs": [
    {
     "name": "stdout",
     "output_type": "stream",
     "text": [
      "[4, 1.6, 5, 1.3, 3.5, 4.8, 3, 2.5]\n"
     ]
    }
   ],
   "source": [
    "Calificacion = [2.5,3,4.8,3.5,1.3,5,1.6,4]\n",
    "Calificacion.reverse()\n",
    "print(Calificacion)"
   ]
  }
 ],
 "metadata": {
  "kernelspec": {
   "display_name": "Python 3",
   "language": "python",
   "name": "python3"
  },
  "language_info": {
   "codemirror_mode": {
    "name": "ipython",
    "version": 3
   },
   "file_extension": ".py",
   "mimetype": "text/x-python",
   "name": "python",
   "nbconvert_exporter": "python",
   "pygments_lexer": "ipython3",
   "version": "3.13.2"
  }
 },
 "nbformat": 4,
 "nbformat_minor": 5
}
