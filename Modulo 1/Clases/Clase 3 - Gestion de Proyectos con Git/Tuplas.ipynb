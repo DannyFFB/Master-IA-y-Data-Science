{
 "cells": [
  {
   "cell_type": "markdown",
   "id": "922f0f4b",
   "metadata": {},
   "source": [
    "Tuplas \n",
    "\n",
    "Sirve para guardar datos, pero no son mutables, o sea no se pueden cambiar los datos. Esta encerrada por Parentesis ()"
   ]
  },
  {
   "cell_type": "code",
   "execution_count": 1,
   "id": "f96fc0fd",
   "metadata": {},
   "outputs": [
    {
     "name": "stdout",
     "output_type": "stream",
     "text": [
      "(2.5, 3, 4.8, 3.5, 1.3, 5, 1.6, 4)\n"
     ]
    }
   ],
   "source": [
    "Calificacion = (2.5,3,4.8,3.5,1.3,5,1.6,4)\n",
    "print(Calificacion)"
   ]
  },
  {
   "cell_type": "markdown",
   "id": "fbf5ba32",
   "metadata": {},
   "source": [
    "Funciones de Tuplas:\n"
   ]
  },
  {
   "cell_type": "markdown",
   "id": "caf22fc9",
   "metadata": {},
   "source": [
    "\n",
    "Count: cuenta el numero de veces que ocurre los valores en la tupla"
   ]
  },
  {
   "cell_type": "code",
   "execution_count": 3,
   "id": "eb1d1324",
   "metadata": {},
   "outputs": [
    {
     "name": "stdout",
     "output_type": "stream",
     "text": [
      "2\n"
     ]
    }
   ],
   "source": [
    "Calificacion = (2.5,5,4.8,3.5,1.3,5,1.6,4)\n",
    "x= Calificacion.count(5)\n",
    "print(x)"
   ]
  },
  {
   "cell_type": "markdown",
   "id": "4ad4edd0",
   "metadata": {},
   "source": [
    "Index: Busca un valor en la tupla la primera vez que lo encuentre y muestra su posicion"
   ]
  },
  {
   "cell_type": "code",
   "execution_count": 5,
   "id": "6393df49",
   "metadata": {},
   "outputs": [
    {
     "name": "stdout",
     "output_type": "stream",
     "text": [
      "5\n"
     ]
    }
   ],
   "source": [
    "Calificacion = (2.5,3,4.8,3.5,1.3,5,1.6,4)\n",
    "x= Calificacion.index(5)\n",
    "print(x)"
   ]
  }
 ],
 "metadata": {
  "kernelspec": {
   "display_name": "Python 3",
   "language": "python",
   "name": "python3"
  },
  "language_info": {
   "codemirror_mode": {
    "name": "ipython",
    "version": 3
   },
   "file_extension": ".py",
   "mimetype": "text/x-python",
   "name": "python",
   "nbconvert_exporter": "python",
   "pygments_lexer": "ipython3",
   "version": "3.13.2"
  }
 },
 "nbformat": 4,
 "nbformat_minor": 5
}
